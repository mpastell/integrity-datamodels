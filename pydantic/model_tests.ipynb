{
 "cells": [
  {
   "attachments": {},
   "cell_type": "markdown",
   "metadata": {},
   "source": [
    "# Pydantic generate models\n",
    "\n",
    "Test of generating pydantic data models from openapi spec and posting NGSI-LD broker. First generate the models:"
   ]
  },
  {
   "cell_type": "code",
   "execution_count": 16,
   "metadata": {},
   "outputs": [],
   "source": [
    "!datamodel-codegen --input models.yaml --output models.py"
   ]
  },
  {
   "cell_type": "code",
   "execution_count": 17,
   "metadata": {},
   "outputs": [],
   "source": [
    "import datetime\n",
    "import requests\n",
    "from ngsildclient import Entity\n",
    "from models import AnimalObservation, HarvestEvent"
   ]
  },
  {
   "cell_type": "code",
   "execution_count": 18,
   "metadata": {},
   "outputs": [],
   "source": [
    "start = datetime.datetime.fromisoformat(\"2023-01-01T00:00:00\")\n",
    "a1 = AnimalObservation(methaneyield=20, net_energy_requirement=500, \n",
    "                  observedAt = start.isoformat() + \"Z\", observationDate = start.isoformat() + \"Z\" )\n",
    "e = a1.dict(exclude_none=True)\n",
    "e[\"type\"] = \"AnimalObservation\"\n",
    "e[\"id\"] = Entity._build_fully_qualified_id(e[\"type\"], \"cow006\")"
   ]
  },
  {
   "cell_type": "code",
   "execution_count": 20,
   "metadata": {},
   "outputs": [
    {
     "data": {
      "text/html": [
       "<pre style=\"white-space:pre;overflow-x:auto;line-height:normal;font-family:Menlo,'DejaVu Sans Mono',consolas,'Courier New',monospace\"><span style=\"font-weight: bold\">{</span>\n",
       "  <span style=\"color: #000080; text-decoration-color: #000080; font-weight: bold\">\"methaneyield\"</span>: <span style=\"color: #008080; text-decoration-color: #008080; font-weight: bold\">20.0</span>,\n",
       "  <span style=\"color: #000080; text-decoration-color: #000080; font-weight: bold\">\"net_energy_requirement\"</span>: <span style=\"color: #008080; text-decoration-color: #008080; font-weight: bold\">500.0</span>,\n",
       "  <span style=\"color: #000080; text-decoration-color: #000080; font-weight: bold\">\"observedAt\"</span>: <span style=\"color: #008000; text-decoration-color: #008000\">\"2023-01-01T00:00:00Z\"</span>,\n",
       "  <span style=\"color: #000080; text-decoration-color: #000080; font-weight: bold\">\"observationDate\"</span>: <span style=\"color: #008000; text-decoration-color: #008000\">\"2023-01-01T00:00:00Z\"</span>,\n",
       "  <span style=\"color: #000080; text-decoration-color: #000080; font-weight: bold\">\"type\"</span>: <span style=\"color: #008000; text-decoration-color: #008000\">\"AnimalObservation\"</span>,\n",
       "  <span style=\"color: #000080; text-decoration-color: #000080; font-weight: bold\">\"id\"</span>: <span style=\"color: #008000; text-decoration-color: #008000\">\"urn:ngsi-ld:AnimalObservation:cow006\"</span>,\n",
       "  <span style=\"color: #000080; text-decoration-color: #000080; font-weight: bold\">\"@context\"</span>: <span style=\"font-weight: bold\">[</span>\n",
       "    <span style=\"color: #008000; text-decoration-color: #008000\">\"https://uri.etsi.org/ngsi-ld/v1/ngsi-ld-core-context.jsonld\"</span>\n",
       "  <span style=\"font-weight: bold\">]</span>\n",
       "<span style=\"font-weight: bold\">}</span>\n",
       "</pre>\n"
      ],
      "text/plain": [
       "\u001b[1m{\u001b[0m\n",
       "  \u001b[1;34m\"methaneyield\"\u001b[0m: \u001b[1;36m20.0\u001b[0m,\n",
       "  \u001b[1;34m\"net_energy_requirement\"\u001b[0m: \u001b[1;36m500.0\u001b[0m,\n",
       "  \u001b[1;34m\"observedAt\"\u001b[0m: \u001b[32m\"2023-01-01T00:00:00Z\"\u001b[0m,\n",
       "  \u001b[1;34m\"observationDate\"\u001b[0m: \u001b[32m\"2023-01-01T00:00:00Z\"\u001b[0m,\n",
       "  \u001b[1;34m\"type\"\u001b[0m: \u001b[32m\"AnimalObservation\"\u001b[0m,\n",
       "  \u001b[1;34m\"id\"\u001b[0m: \u001b[32m\"urn:ngsi-ld:AnimalObservation:cow006\"\u001b[0m,\n",
       "  \u001b[1;34m\"@context\"\u001b[0m: \u001b[1m[\u001b[0m\n",
       "    \u001b[32m\"https://uri.etsi.org/ngsi-ld/v1/ngsi-ld-core-context.jsonld\"\u001b[0m\n",
       "  \u001b[1m]\u001b[0m\n",
       "\u001b[1m}\u001b[0m\n"
      ]
     },
     "metadata": {},
     "output_type": "display_data"
    }
   ],
   "source": [
    "et = Entity.from_dict(e)\n",
    "et.pprint()"
   ]
  },
  {
   "cell_type": "code",
   "execution_count": 6,
   "metadata": {},
   "outputs": [
    {
     "name": "stdout",
     "output_type": "stream",
     "text": [
      "201\n",
      "\n"
     ]
    }
   ],
   "source": [
    "import requests\n",
    "ctx = \"https://uri.etsi.org/ngsi-ld/v1/ngsi-ld-core-context-v1.6.jsonld\"\n",
    "headers = {'Link': f'<{ctx}>; rel=\"http://www.w3.org/ns/json-ld#context\"; type=\"application/ld+json\"'}\n",
    "r = requests.post(\"http://localhost:1026/ngsi-ld/v1/entities\", \n",
    "                  headers=headers,\n",
    "                  json=e)\n",
    "print(r.status_code)\n",
    "print(r.text)"
   ]
  },
  {
   "cell_type": "code",
   "execution_count": 7,
   "metadata": {},
   "outputs": [
    {
     "data": {
      "text/plain": [
       "{'id': 'urn:ngsi-ld:AnimalObservation:cow006',\n",
       " 'type': 'AnimalObservation',\n",
       " 'methaneyield': 20,\n",
       " 'net_energy_requirement': 500,\n",
       " 'observedAt': '2023-01-01T00:00:00Z',\n",
       " 'observationDate': '2023-01-01T00:00:00Z'}"
      ]
     },
     "execution_count": 7,
     "metadata": {},
     "output_type": "execute_result"
    }
   ],
   "source": [
    "r = requests.get(f\"http://localhost:1026/ngsi-ld/v1/entities/{e['id']}\", \n",
    "                 params={\"options\" : \"keyValues\"})\n",
    "AnimalObservation(**r.json())\n",
    "r.json()"
   ]
  },
  {
   "cell_type": "markdown",
   "metadata": {},
   "source": [
    "# Temporal"
   ]
  },
  {
   "cell_type": "code",
   "execution_count": 8,
   "metadata": {},
   "outputs": [
    {
     "name": "stdout",
     "output_type": "stream",
     "text": [
      "204\n",
      "204\n",
      "204\n"
     ]
    }
   ],
   "source": [
    "start = datetime.datetime.fromisoformat(\"2023-01-01T00:00:00\")\n",
    "e = a1.dict(exclude_none=True)\n",
    "e[\"type\"] = \"AnimalObservation\"\n",
    "e[\"id\"] = Entity._build_fully_qualified_id(e[\"type\"], \"cow006\")\n",
    "for t in range(3):\n",
    "    e[\"observedAt\"] = (start + datetime.timedelta(days=t)).isoformat() + \"Z\"\n",
    "    r = requests.post(f\"http://localhost:1026/ngsi-ld/v1/entityOperations/update\", \n",
    "                  headers=headers,\n",
    "                  json=[e])\n",
    "    print(r.status_code)\n",
    "    #print(r.text)\n"
   ]
  },
  {
   "cell_type": "code",
   "execution_count": 12,
   "metadata": {},
   "outputs": [
    {
     "data": {
      "text/plain": [
       "[]"
      ]
     },
     "execution_count": 12,
     "metadata": {},
     "output_type": "execute_result"
    }
   ],
   "source": [
    "url = 'http://localhost:8080/temporal/entities/' \n",
    "headers = {\n",
    "    'Link': f'<{ctx}>; rel=\"http://www.w3.org/ns/json-ld#context\"; type=\"application/ld+json\"',\n",
    "}\n",
    "params = {\n",
    "    'type': e[\"type\"],\n",
    "    'pageSize': 100,\n",
    "    'lastN': 10,\n",
    "    'timeproperty': 'observedAt', # TODO add observedAt to properties <- code in \n",
    "    #'timeproperty': 'createdAt',\n",
    "    'timerel': 'before',\n",
    "    'timeAt': f'{datetime.datetime.now().isoformat()}',\n",
    "    'options' : 'temporalValues'\n",
    "}\n",
    "\n",
    "response = requests.get(url, headers=headers, params=params)\n",
    "response.json()"
   ]
  },
  {
   "cell_type": "code",
   "execution_count": 25,
   "metadata": {},
   "outputs": [
    {
     "name": "stdout",
     "output_type": "stream",
     "text": [
      "properties:\n",
      "  methaneyield:\n",
      "    description: Methane (x / d)\n",
      "    title: Methaneyield\n",
      "    type: number\n",
      "  net_energy_requirement:\n",
      "    description: http://opendata.inrae.fr/ATOL/page/ATOL_0001601\n",
      "    title: Net Energy Requirement\n",
      "    type: number\n",
      "  observationDate:\n",
      "    description: Date of the observation\n",
      "    title: Observationdate\n",
      "    type: string\n",
      "  observedAt:\n",
      "    description: Date of the observation\n",
      "    title: Observedat\n",
      "    type: string\n",
      "title: AnimalObservation\n",
      "type: object\n",
      "\n"
     ]
    }
   ],
   "source": [
    "import yaml\n",
    "print(yaml.dump(AnimalObservation.schema()))"
   ]
  },
  {
   "cell_type": "code",
   "execution_count": null,
   "metadata": {},
   "outputs": [],
   "source": []
  }
 ],
 "metadata": {
  "kernelspec": {
   "display_name": "Python 3",
   "language": "python",
   "name": "python3"
  },
  "language_info": {
   "codemirror_mode": {
    "name": "ipython",
    "version": 3
   },
   "file_extension": ".py",
   "mimetype": "text/x-python",
   "name": "python",
   "nbconvert_exporter": "python",
   "pygments_lexer": "ipython3",
   "version": "3.10.6"
  },
  "orig_nbformat": 4
 },
 "nbformat": 4,
 "nbformat_minor": 2
}
