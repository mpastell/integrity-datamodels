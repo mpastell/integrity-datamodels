{
 "cells": [
  {
   "attachments": {},
   "cell_type": "markdown",
   "metadata": {},
   "source": [
    "## Interact with NGSI-LD context broker usign the data model\n",
    "\n",
    "Uses stellio broker installed on kubernetes"
   ]
  },
  {
   "cell_type": "code",
   "execution_count": 28,
   "metadata": {},
   "outputs": [],
   "source": [
    "from ngsildclient import Entity, Client"
   ]
  },
  {
   "cell_type": "code",
   "execution_count": 29,
   "metadata": {},
   "outputs": [
    {
     "data": {
      "text/html": [
       "<pre style=\"white-space:pre;overflow-x:auto;line-height:normal;font-family:Menlo,'DejaVu Sans Mono',consolas,'Courier New',monospace\">Java-Spring based Context Broker detected. Try to enable info endpoint.\n",
       "</pre>\n"
      ],
      "text/plain": [
       "Java-Spring based Context Broker detected. Try to enable info endpoint.\n"
      ]
     },
     "metadata": {},
     "output_type": "display_data"
    },
    {
     "data": {
      "text/html": [
       "<pre style=\"white-space:pre;overflow-x:auto;line-height:normal;font-family:Menlo,'DejaVu Sans Mono',consolas,'Courier New',monospace\"><span style=\"color: #008000; text-decoration-color: #008000\">Connected</span> to Context Broker at <span style=\"color: #0000d7; text-decoration-color: #0000d7; font-weight: bold\">10.0.0.1</span><span style=\"color: #0000d7; text-decoration-color: #0000d7\">:</span><span style=\"color: #0000d7; text-decoration-color: #0000d7; font-weight: bold\">8080</span> | <span style=\"color: #808000; text-decoration-color: #808000\">tenant</span>=<span style=\"color: #0000d7; text-decoration-color: #0000d7\">N</span><span style=\"color: #0000d7; text-decoration-color: #0000d7\">/A</span> | <span style=\"color: #808000; text-decoration-color: #808000\">vendor</span>=<span style=\"color: #0000d7; text-decoration-color: #0000d7; font-style: italic\">None</span> | <span style=\"color: #808000; text-decoration-color: #808000\">version</span>=<span style=\"color: #0000d7; text-decoration-color: #0000d7\">N</span><span style=\"color: #0000d7; text-decoration-color: #0000d7\">/A</span>\n",
       "</pre>\n"
      ],
      "text/plain": [
       "\u001b[32mConnected\u001b[0m to Context Broker at \u001b[1;38;5;20m10.0.0.1\u001b[0m\u001b[38;5;20m:\u001b[0m\u001b[1;38;5;20m8080\u001b[0m | \u001b[33mtenant\u001b[0m=\u001b[38;5;20mN\u001b[0m\u001b[38;5;20m/A\u001b[0m | \u001b[33mvendor\u001b[0m=\u001b[3;38;5;20mNone\u001b[0m | \u001b[33mversion\u001b[0m=\u001b[38;5;20mN\u001b[0m\u001b[38;5;20m/A\u001b[0m\n"
      ]
     },
     "metadata": {},
     "output_type": "display_data"
    }
   ],
   "source": [
    "client = Client(hostname=\"10.0.0.1\", port=8080)"
   ]
  },
  {
   "cell_type": "code",
   "execution_count": 73,
   "metadata": {},
   "outputs": [
    {
     "name": "stdout",
     "output_type": "stream",
     "text": [
      "CPU times: user 2.39 s, sys: 165 ms, total: 2.56 s\n",
      "Wall time: 17.8 s\n"
     ]
    }
   ],
   "source": [
    "%%time\n",
    "ctx = \"http://nginx:8000/context.jsonld\" # NGINX inside the cluster, only for testing purposes\n",
    "for idx in range(1000):\n",
    "    animal = Entity(\"Animal\", f\"cow{idx}\", ctx=ctx)\n",
    "    animal.prop(\"breed\", \"AY\")\n",
    "    animal.prop(\"legalid\", idx)\n",
    "    client.create(animal)"
   ]
  },
  {
   "cell_type": "code",
   "execution_count": 74,
   "metadata": {},
   "outputs": [
    {
     "data": {
      "text/html": [
       "<pre style=\"white-space:pre;overflow-x:auto;line-height:normal;font-family:Menlo,'DejaVu Sans Mono',consolas,'Courier New',monospace\"><span style=\"color: #008000; text-decoration-color: #008000\">Entities deleted : 1000/1000 [1.00]</span>\n",
       "</pre>\n"
      ],
      "text/plain": [
       "\u001b[32mEntities deleted : 1000/1000 [1.00]\u001b[0m\n"
      ]
     },
     "metadata": {},
     "output_type": "display_data"
    },
    {
     "data": {
      "text/plain": [
       "op: delete, success: 1000, errors: 0"
      ]
     },
     "execution_count": 74,
     "metadata": {},
     "output_type": "execute_result"
    }
   ],
   "source": [
    "client.delete(client.query(\"Animal\", ctx=ctx))"
   ]
  },
  {
   "cell_type": "code",
   "execution_count": 75,
   "metadata": {},
   "outputs": [
    {
     "data": {
      "text/html": [
       "<pre style=\"white-space:pre;overflow-x:auto;line-height:normal;font-family:Menlo,'DejaVu Sans Mono',consolas,'Courier New',monospace\"><span style=\"color: #008000; text-decoration-color: #008000\">Entities created : 1000/1000 [1.00]</span>\n",
       "</pre>\n"
      ],
      "text/plain": [
       "\u001b[32mEntities created : 1000/1000 [1.00]\u001b[0m\n"
      ]
     },
     "metadata": {},
     "output_type": "display_data"
    },
    {
     "name": "stdout",
     "output_type": "stream",
     "text": [
      "CPU times: user 76.3 ms, sys: 8.05 ms, total: 84.3 ms\n",
      "Wall time: 7.9 s\n"
     ]
    },
    {
     "data": {
      "text/plain": [
       "op: create, success: 1000, errors: 0"
      ]
     },
     "execution_count": 75,
     "metadata": {},
     "output_type": "execute_result"
    }
   ],
   "source": [
    "%%time\n",
    "cows = []\n",
    "for idx in range(1000):\n",
    "    animal = Entity(\"Animal\", f\"cow{idx}\", ctx=ctx)\n",
    "    animal.prop(\"breed\", \"AY\")\n",
    "    animal.prop(\"legalid\", idx)\n",
    "    cows.append(animal)\n",
    "client.create(cows)   "
   ]
  },
  {
   "cell_type": "code",
   "execution_count": 80,
   "metadata": {},
   "outputs": [
    {
     "name": "stdout",
     "output_type": "stream",
     "text": [
      "CPU times: user 48.8 ms, sys: 7.88 ms, total: 56.7 ms\n",
      "Wall time: 1.76 s\n"
     ]
    }
   ],
   "source": [
    "%%time\n",
    "cows = client.query(\"Animal\", ctx=ctx)"
   ]
  },
  {
   "cell_type": "code",
   "execution_count": 81,
   "metadata": {},
   "outputs": [
    {
     "data": {
      "text/html": [
       "<pre style=\"white-space:pre;overflow-x:auto;line-height:normal;font-family:Menlo,'DejaVu Sans Mono',consolas,'Courier New',monospace\"><span style=\"color: #008000; text-decoration-color: #008000\">Entities deleted : 1000/1000 [1.00]</span>\n",
       "</pre>\n"
      ],
      "text/plain": [
       "\u001b[32mEntities deleted : 1000/1000 [1.00]\u001b[0m\n"
      ]
     },
     "metadata": {},
     "output_type": "display_data"
    },
    {
     "data": {
      "text/plain": [
       "op: delete, success: 1000, errors: 0"
      ]
     },
     "execution_count": 81,
     "metadata": {},
     "output_type": "execute_result"
    }
   ],
   "source": [
    "#Clean up\n",
    "client.delete(client.query(\"Animal\", ctx=ctx))"
   ]
  },
  {
   "cell_type": "markdown",
   "metadata": {},
   "source": [
    "### Check entity types"
   ]
  },
  {
   "cell_type": "code",
   "execution_count": 58,
   "metadata": {},
   "outputs": [
    {
     "name": "stdout",
     "output_type": "stream",
     "text": [
      "{\n",
      "  \"id\": \"urn:ngsi-ld:EntityTypeList:d7dd04e5-aba3-45f0-b6cf-c37c5485adca\",\n",
      "  \"type\": \"EntityTypeList\",\n",
      "  \"typeList\": []\n",
      "}\n"
     ]
    }
   ],
   "source": [
    "import requests\n",
    "import json\n",
    "es = requests.get(\"http://10.0.0.1:8080/ngsi-ld/v1/types\").json()\n",
    "print(json.dumps(es, indent=2))"
   ]
  },
  {
   "cell_type": "code",
   "execution_count": null,
   "metadata": {},
   "outputs": [],
   "source": []
  }
 ],
 "metadata": {
  "kernelspec": {
   "display_name": "Python 3",
   "language": "python",
   "name": "python3"
  },
  "language_info": {
   "codemirror_mode": {
    "name": "ipython",
    "version": 3
   },
   "file_extension": ".py",
   "mimetype": "text/x-python",
   "name": "python",
   "nbconvert_exporter": "python",
   "pygments_lexer": "ipython3",
   "version": "3.10.6"
  },
  "orig_nbformat": 4
 },
 "nbformat": 4,
 "nbformat_minor": 2
}
