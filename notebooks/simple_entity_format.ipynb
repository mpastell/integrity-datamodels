{
 "cells": [
  {
   "cell_type": "code",
   "execution_count": 3,
   "metadata": {},
   "outputs": [],
   "source": [
    "from ngsildclient import Entity, Client\n",
    "import datetime\n",
    "import numpy as np"
   ]
  },
  {
   "cell_type": "code",
   "execution_count": 4,
   "metadata": {},
   "outputs": [
    {
     "data": {
      "text/html": [
       "<pre style=\"white-space:pre;overflow-x:auto;line-height:normal;font-family:Menlo,'DejaVu Sans Mono',consolas,'Courier New',monospace\"><span style=\"color: #008000; text-decoration-color: #008000\">Connected</span> to Context Broker at <span style=\"color: #0000d7; text-decoration-color: #0000d7; font-weight: bold\">10.0.0.1</span><span style=\"color: #0000d7; text-decoration-color: #0000d7\">:</span><span style=\"color: #0000d7; text-decoration-color: #0000d7; font-weight: bold\">1026</span> | <span style=\"color: #808000; text-decoration-color: #808000\">tenant</span>=<span style=\"color: #0000d7; text-decoration-color: #0000d7\">N</span><span style=\"color: #0000d7; text-decoration-color: #0000d7\">/A</span> | <span style=\"color: #808000; text-decoration-color: #808000\">vendor</span>=<span style=\"color: #0000d7; text-decoration-color: #0000d7\">Orion</span><span style=\"color: #0000d7; text-decoration-color: #0000d7\">-LD</span> | <span style=\"color: #808000; text-decoration-color: #808000\">version</span>=<span style=\"color: #0000d7; text-decoration-color: #0000d7; font-weight: bold\">1.1</span><span style=\"color: #0000d7; text-decoration-color: #0000d7\">.</span><span style=\"color: #0000d7; text-decoration-color: #0000d7; font-weight: bold\">2</span>\n",
       "</pre>\n"
      ],
      "text/plain": [
       "\u001b[32mConnected\u001b[0m to Context Broker at \u001b[1;38;5;20m10.0.0.1\u001b[0m\u001b[38;5;20m:\u001b[0m\u001b[1;38;5;20m1026\u001b[0m | \u001b[33mtenant\u001b[0m=\u001b[38;5;20mN\u001b[0m\u001b[38;5;20m/A\u001b[0m | \u001b[33mvendor\u001b[0m=\u001b[38;5;20mOrion\u001b[0m\u001b[38;5;20m-LD\u001b[0m | \u001b[33mversion\u001b[0m=\u001b[1;38;5;20m1\u001b[0m\u001b[1;38;5;20m.1\u001b[0m\u001b[38;5;20m.\u001b[0m\u001b[1;38;5;20m2\u001b[0m\n"
      ]
     },
     "metadata": {},
     "output_type": "display_data"
    }
   ],
   "source": [
    "host = \"10.0.0.1\"\n",
    "client = Client(hostname=host, port=1026, port_temporal=8080)\n",
    "ctx = \"http://nginx:8000/context-ngsi.jsonld\""
   ]
  },
  {
   "cell_type": "code",
   "execution_count": 8,
   "metadata": {},
   "outputs": [
    {
     "data": {
      "text/html": [
       "<pre style=\"white-space:pre;overflow-x:auto;line-height:normal;font-family:Menlo,'DejaVu Sans Mono',consolas,'Courier New',monospace\"><span style=\"font-weight: bold\">{</span>\n",
       "  <span style=\"color: #000080; text-decoration-color: #000080; font-weight: bold\">\"id\"</span>: <span style=\"color: #008000; text-decoration-color: #008000\">\"urn:ngsi-ld:AnimalDailyObserved:cow_x\"</span>,\n",
       "  <span style=\"color: #000080; text-decoration-color: #000080; font-weight: bold\">\"type\"</span>: <span style=\"color: #008000; text-decoration-color: #008000\">\"AnimalDailyObserved\"</span>,\n",
       "  <span style=\"color: #000080; text-decoration-color: #000080; font-weight: bold\">\"@context\"</span>: <span style=\"color: #008000; text-decoration-color: #008000\">\"http://nginx:8000/context-ngsi.jsonld\"</span>,\n",
       "  <span style=\"color: #000080; text-decoration-color: #000080; font-weight: bold\">\"methaneyield\"</span>: <span style=\"color: #008080; text-decoration-color: #008080; font-weight: bold\">45</span>,\n",
       "  <span style=\"color: #000080; text-decoration-color: #000080; font-weight: bold\">\"net_energy_requirement\"</span>: <span style=\"color: #008080; text-decoration-color: #008080; font-weight: bold\">991</span>,\n",
       "  <span style=\"color: #000080; text-decoration-color: #000080; font-weight: bold\">\"observedAt\"</span>: <span style=\"color: #008000; text-decoration-color: #008000\">\"2023-01-01T00:00:00Z\"</span>\n",
       "<span style=\"font-weight: bold\">}</span>\n",
       "</pre>\n"
      ],
      "text/plain": [
       "\u001b[1m{\u001b[0m\n",
       "  \u001b[1;34m\"id\"\u001b[0m: \u001b[32m\"urn:ngsi-ld:AnimalDailyObserved:cow_x\"\u001b[0m,\n",
       "  \u001b[1;34m\"type\"\u001b[0m: \u001b[32m\"AnimalDailyObserved\"\u001b[0m,\n",
       "  \u001b[1;34m\"@context\"\u001b[0m: \u001b[32m\"http://nginx:8000/context-ngsi.jsonld\"\u001b[0m,\n",
       "  \u001b[1;34m\"methaneyield\"\u001b[0m: \u001b[1;36m45\u001b[0m,\n",
       "  \u001b[1;34m\"net_energy_requirement\"\u001b[0m: \u001b[1;36m991\u001b[0m,\n",
       "  \u001b[1;34m\"observedAt\"\u001b[0m: \u001b[32m\"2023-01-01T00:00:00Z\"\u001b[0m\n",
       "\u001b[1m}\u001b[0m\n"
      ]
     },
     "metadata": {},
     "output_type": "display_data"
    },
    {
     "data": {
      "text/plain": [
       "True"
      ]
     },
     "execution_count": 8,
     "metadata": {},
     "output_type": "execute_result"
    }
   ],
   "source": [
    "start = datetime.datetime.fromisoformat(\"2023-01-01T00:00:00\")\n",
    "cowx = Entity(\"AnimalDailyObserved\", \"cow_x\", ctx = ctx)\n",
    "cowx[\"methaneyield\"] = np.random.randint(30, 60)\n",
    "cowx[\"net_energy_requirement\"] = np.random.randint(700, 1000)\n",
    "cowx[\"observedAt\"] = start.isoformat() + \"Z\"\n",
    "cowx.pprint()\n",
    "client.create(cowx)"
   ]
  },
  {
   "cell_type": "markdown",
   "metadata": {},
   "source": [
    "# Build a daily measurement"
   ]
  },
  {
   "cell_type": "code",
   "execution_count": 31,
   "metadata": {},
   "outputs": [
    {
     "data": {
      "text/plain": [
       "{'observedAt': '2023-01-01T00:00:00',\n",
       " 'obs': {'methaneyield': 43, 'net_energy_requirement': 42},\n",
       " 'pred': {'methaneyield': 32, 'net_energy_requirement': 46}}"
      ]
     },
     "execution_count": 31,
     "metadata": {},
     "output_type": "execute_result"
    }
   ],
   "source": [
    "import json\n",
    "from dataclasses import dataclass, asdict\n",
    "\n",
    "@dataclass\n",
    "class AnimalDay:\n",
    "    methaneyield: float\n",
    "    net_energy_requirement: float\n",
    "\n",
    "@dataclass\n",
    "class Day:\n",
    "    observedAt : str\n",
    "    obs: AnimalDay\n",
    "    pred: AnimalDay\n",
    "\n",
    "obs = AnimalDay(np.random.randint(30, 60),\n",
    "                 np.random.randint(30, 60))\n",
    "pred = AnimalDay(np.random.randint(30, 60),\n",
    "                 np.random.randint(30, 60))\n",
    "obs.__dict__\n",
    "d = Day(start.isoformat(), obs, pred)\n",
    "asdict(d)"
   ]
  },
  {
   "cell_type": "code",
   "execution_count": 107,
   "metadata": {},
   "outputs": [
    {
     "data": {
      "text/html": [
       "<pre style=\"white-space:pre;overflow-x:auto;line-height:normal;font-family:Menlo,'DejaVu Sans Mono',consolas,'Courier New',monospace\"><span style=\"font-weight: bold\">{</span>\n",
       "  <span style=\"color: #000080; text-decoration-color: #000080; font-weight: bold\">\"id\"</span>: <span style=\"color: #008000; text-decoration-color: #008000\">\"urn:ngsi-ld:AnimalDay:Cow2\"</span>,\n",
       "  <span style=\"color: #000080; text-decoration-color: #000080; font-weight: bold\">\"type\"</span>: <span style=\"color: #008000; text-decoration-color: #008000\">\"AnimalDay\"</span>,\n",
       "  <span style=\"color: #000080; text-decoration-color: #000080; font-weight: bold\">\"@context\"</span>: <span style=\"color: #008000; text-decoration-color: #008000\">\"http://nginx:8000/context-ngsi.jsonld\"</span>,\n",
       "  <span style=\"color: #000080; text-decoration-color: #000080; font-weight: bold\">\"obs\"</span>: <span style=\"font-weight: bold\">{</span>\n",
       "    <span style=\"color: #000080; text-decoration-color: #000080; font-weight: bold\">\"type\"</span>: <span style=\"color: #008000; text-decoration-color: #008000\">\"Property\"</span>,\n",
       "    <span style=\"color: #000080; text-decoration-color: #000080; font-weight: bold\">\"value\"</span>: <span style=\"font-weight: bold\">{</span>\n",
       "      <span style=\"color: #000080; text-decoration-color: #000080; font-weight: bold\">\"methaneyield\"</span>: <span style=\"color: #008080; text-decoration-color: #008080; font-weight: bold\">43</span>,\n",
       "      <span style=\"color: #000080; text-decoration-color: #000080; font-weight: bold\">\"net_energy_requirement\"</span>: <span style=\"color: #008080; text-decoration-color: #008080; font-weight: bold\">42</span>\n",
       "    <span style=\"font-weight: bold\">}</span>,\n",
       "    <span style=\"color: #000080; text-decoration-color: #000080; font-weight: bold\">\"observedAt\"</span>: <span style=\"color: #008000; text-decoration-color: #008000\">\"2023-01-02T00:00:00Z\"</span>\n",
       "  <span style=\"font-weight: bold\">}</span>,\n",
       "  <span style=\"color: #000080; text-decoration-color: #000080; font-weight: bold\">\"pred\"</span>: <span style=\"font-weight: bold\">{</span>\n",
       "    <span style=\"color: #000080; text-decoration-color: #000080; font-weight: bold\">\"type\"</span>: <span style=\"color: #008000; text-decoration-color: #008000\">\"Property\"</span>,\n",
       "    <span style=\"color: #000080; text-decoration-color: #000080; font-weight: bold\">\"value\"</span>: <span style=\"font-weight: bold\">{</span>\n",
       "      <span style=\"color: #000080; text-decoration-color: #000080; font-weight: bold\">\"methaneyield\"</span>: <span style=\"color: #008080; text-decoration-color: #008080; font-weight: bold\">32</span>,\n",
       "      <span style=\"color: #000080; text-decoration-color: #000080; font-weight: bold\">\"net_energy_requirement\"</span>: <span style=\"color: #008080; text-decoration-color: #008080; font-weight: bold\">46</span>\n",
       "    <span style=\"font-weight: bold\">}</span>,\n",
       "    <span style=\"color: #000080; text-decoration-color: #000080; font-weight: bold\">\"observedAt\"</span>: <span style=\"color: #008000; text-decoration-color: #008000\">\"2023-01-02T00:00:00Z\"</span>\n",
       "  <span style=\"font-weight: bold\">}</span>\n",
       "<span style=\"font-weight: bold\">}</span>\n",
       "</pre>\n"
      ],
      "text/plain": [
       "\u001b[1m{\u001b[0m\n",
       "  \u001b[1;34m\"id\"\u001b[0m: \u001b[32m\"urn:ngsi-ld:AnimalDay:Cow2\"\u001b[0m,\n",
       "  \u001b[1;34m\"type\"\u001b[0m: \u001b[32m\"AnimalDay\"\u001b[0m,\n",
       "  \u001b[1;34m\"@context\"\u001b[0m: \u001b[32m\"http://nginx:8000/context-ngsi.jsonld\"\u001b[0m,\n",
       "  \u001b[1;34m\"obs\"\u001b[0m: \u001b[1m{\u001b[0m\n",
       "    \u001b[1;34m\"type\"\u001b[0m: \u001b[32m\"Property\"\u001b[0m,\n",
       "    \u001b[1;34m\"value\"\u001b[0m: \u001b[1m{\u001b[0m\n",
       "      \u001b[1;34m\"methaneyield\"\u001b[0m: \u001b[1;36m43\u001b[0m,\n",
       "      \u001b[1;34m\"net_energy_requirement\"\u001b[0m: \u001b[1;36m42\u001b[0m\n",
       "    \u001b[1m}\u001b[0m,\n",
       "    \u001b[1;34m\"observedAt\"\u001b[0m: \u001b[32m\"2023-01-02T00:00:00Z\"\u001b[0m\n",
       "  \u001b[1m}\u001b[0m,\n",
       "  \u001b[1;34m\"pred\"\u001b[0m: \u001b[1m{\u001b[0m\n",
       "    \u001b[1;34m\"type\"\u001b[0m: \u001b[32m\"Property\"\u001b[0m,\n",
       "    \u001b[1;34m\"value\"\u001b[0m: \u001b[1m{\u001b[0m\n",
       "      \u001b[1;34m\"methaneyield\"\u001b[0m: \u001b[1;36m32\u001b[0m,\n",
       "      \u001b[1;34m\"net_energy_requirement\"\u001b[0m: \u001b[1;36m46\u001b[0m\n",
       "    \u001b[1m}\u001b[0m,\n",
       "    \u001b[1;34m\"observedAt\"\u001b[0m: \u001b[32m\"2023-01-02T00:00:00Z\"\u001b[0m\n",
       "  \u001b[1m}\u001b[0m\n",
       "\u001b[1m}\u001b[0m\n"
      ]
     },
     "metadata": {},
     "output_type": "display_data"
    },
    {
     "data": {
      "text/plain": [
       "True"
      ]
     },
     "execution_count": 107,
     "metadata": {},
     "output_type": "execute_result"
    }
   ],
   "source": [
    "d1 = Entity(\"AnimalDay\", \"Cow2\", ctx=ctx)\n",
    "for k,v in asdict(d).items():\n",
    "    if k == \"observedAt\":\n",
    "        #d1[k] = v\n",
    "        continue\n",
    "    else:\n",
    "        d1.prop(k, v)\n",
    "        d1[k].observedat = start + datetime.timedelta(days=1)\n",
    "d1.pprint()\n",
    "#d1.obs()\n",
    "client.create(d1)"
   ]
  },
  {
   "cell_type": "code",
   "execution_count": 108,
   "metadata": {},
   "outputs": [
    {
     "data": {
      "text/plain": [
       "[{'@context': 'http://nginx:8000/context-ngsi.jsonld', 'id': 'urn:ngsi-ld:AnimalDay:Cow1', 'type': 'AnimalDay', 'dateObserved': {'type': 'Property', 'value': {'@type': 'DateTime', '@value': '2023-03-30T08:20:05Z'}}, 'obs': {'type': 'Property', 'value': {'methaneyield': 43, 'net_energy_requirement': 42}}, 'pred': {'type': 'Property', 'value': {'methaneyield': 32, 'net_energy_requirement': 46}}, 'observedAt': {'type': 'Property', 'value': '2022-01-02T00:00:00Z'}},\n",
       " {'@context': 'http://nginx:8000/context-ngsi.jsonld', 'id': 'urn:ngsi-ld:AnimalDay:Cow2', 'type': 'AnimalDay', 'obs': {'type': 'Property', 'value': {'methaneyield': 43, 'net_energy_requirement': 42}, 'observedAt': '2023-01-02T00:00:00.000Z'}, 'pred': {'type': 'Property', 'value': {'methaneyield': 32, 'net_energy_requirement': 46}, 'observedAt': '2023-01-02T00:00:00.000Z'}}]"
      ]
     },
     "execution_count": 108,
     "metadata": {},
     "output_type": "execute_result"
    }
   ],
   "source": [
    "client.query(type=\"AnimalDay\", ctx=ctx)"
   ]
  },
  {
   "cell_type": "code",
   "execution_count": 64,
   "metadata": {},
   "outputs": [],
   "source": [
    "#for t in range(365):\n",
    "#    d1[\"observedAt\"] = (start + datetime.timedelta(days=-t)).isoformat() + \"Z\"\n",
    "#    client.update(d1)"
   ]
  },
  {
   "attachments": {},
   "cell_type": "markdown",
   "metadata": {},
   "source": [
    "#### Query time series"
   ]
  },
  {
   "cell_type": "code",
   "execution_count": 110,
   "metadata": {},
   "outputs": [
    {
     "name": "stdout",
     "output_type": "stream",
     "text": [
      "CPU times: user 5.96 ms, sys: 0 ns, total: 5.96 ms\n",
      "Wall time: 51.1 ms\n"
     ]
    },
    {
     "data": {
      "text/plain": [
       "'[{\"id\":\"urn:ngsi-ld:AnimalDay:Cow2\",\"type\":\"AnimalDay\",\"obs\":{\"type\":\"Property\",\"values\":[[{\"methaneyield\":43,\"net_energy_requirement\":42},\"2023-01-02T00:00:00Z\"]]},\"pred\":{\"type\":\"Property\",\"values\":[[{\"methaneyield\":32,\"net_energy_requirement\":46},\"2023-01-02T00:00:00Z\"]]}}]'"
      ]
     },
     "execution_count": 110,
     "metadata": {},
     "output_type": "execute_result"
    }
   ],
   "source": [
    "import requests\n",
    "import datetime\n",
    "ctx = \"http://nginx:8000/context-ngsi.jsonld\"\n",
    "\n",
    "#Mintaka on mikrok8s\n",
    "url = 'http://10.0.0.2:8080/temporal/entities/' \n",
    "headers = {\n",
    "    'Link': f'<{ctx}>; rel=\"http://www.w3.org/ns/json-ld#context\"; type=\"application/ld+json\"',\n",
    "}\n",
    "params = {\n",
    "    'type': 'AnimalDay',\n",
    "    'pageSize': 100,\n",
    "    'lastN': 10,\n",
    "    'timeproperty': 'observedAt',\n",
    "    #'timeproperty': 'createdAt',\n",
    "    'timerel': 'before',\n",
    "    'timeAt': f'{datetime.datetime.now().isoformat()}',\n",
    "    'options' : 'temporalValues'\n",
    "}\n",
    "\n",
    "%time response = requests.get(url, headers=headers, params=params)\n",
    "cowdata = response.json()\n",
    "#cowdata[0][\"observedAt\"][\"values\"]\n",
    "cowdata[0][\"obs\"][\"values\"]\n",
    "response.text"
   ]
  },
  {
   "cell_type": "code",
   "execution_count": 102,
   "metadata": {},
   "outputs": [
    {
     "data": {
      "text/plain": [
       "[[{'methaneyield': 43, 'net_energy_requirement': 42},\n",
       "  '2023-03-30T09:05:15.322Z'],\n",
       " [{'methaneyield': 43, 'net_energy_requirement': 42},\n",
       "  '2023-03-30T09:05:15.305Z'],\n",
       " [{'methaneyield': 43, 'net_energy_requirement': 42},\n",
       "  '2023-03-30T09:05:15.286Z'],\n",
       " [{'methaneyield': 43, 'net_energy_requirement': 42},\n",
       "  '2023-03-30T09:05:15.270Z'],\n",
       " [{'methaneyield': 43, 'net_energy_requirement': 42},\n",
       "  '2023-03-30T09:05:15.251Z'],\n",
       " [{'methaneyield': 43, 'net_energy_requirement': 42},\n",
       "  '2023-03-30T09:05:15.235Z'],\n",
       " [{'methaneyield': 43, 'net_energy_requirement': 42},\n",
       "  '2023-03-30T09:05:15.219Z'],\n",
       " [{'methaneyield': 43, 'net_energy_requirement': 42},\n",
       "  '2023-03-30T09:05:15.200Z'],\n",
       " [{'methaneyield': 43, 'net_energy_requirement': 42},\n",
       "  '2023-03-30T09:05:15.180Z'],\n",
       " [{'methaneyield': 43, 'net_energy_requirement': 42},\n",
       "  '2023-03-30T09:05:15.161Z']]"
      ]
     },
     "execution_count": 102,
     "metadata": {},
     "output_type": "execute_result"
    }
   ],
   "source": [
    "cowdata[0][\"obs\"][\"values\"]"
   ]
  },
  {
   "cell_type": "code",
   "execution_count": null,
   "metadata": {},
   "outputs": [],
   "source": []
  }
 ],
 "metadata": {
  "kernelspec": {
   "display_name": "Python 3",
   "language": "python",
   "name": "python3"
  },
  "language_info": {
   "codemirror_mode": {
    "name": "ipython",
    "version": 3
   },
   "file_extension": ".py",
   "mimetype": "text/x-python",
   "name": "python",
   "nbconvert_exporter": "python",
   "pygments_lexer": "ipython3",
   "version": "3.10.6"
  },
  "orig_nbformat": 4
 },
 "nbformat": 4,
 "nbformat_minor": 2
}
