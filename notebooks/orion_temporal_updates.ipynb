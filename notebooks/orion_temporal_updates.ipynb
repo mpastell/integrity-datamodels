{
 "cells": [
  {
   "attachments": {},
   "cell_type": "markdown",
   "metadata": {},
   "source": [
    "## Interact with NGSI-LD context broker usign the data model\n",
    "\n",
    "Uses orion-ld broker\n",
    "\n",
    "copy updated context to kubernetes using:"
   ]
  },
  {
   "cell_type": "code",
   "execution_count": 21,
   "metadata": {},
   "outputs": [],
   "source": [
    "from ngsildclient import Entity, Client"
   ]
  },
  {
   "cell_type": "code",
   "execution_count": 22,
   "metadata": {},
   "outputs": [
    {
     "data": {
      "text/html": [
       "<pre style=\"white-space:pre;overflow-x:auto;line-height:normal;font-family:Menlo,'DejaVu Sans Mono',consolas,'Courier New',monospace\"><span style=\"color: #008000; text-decoration-color: #008000\">Connected</span> to Context Broker at <span style=\"color: #0000d7; text-decoration-color: #0000d7; font-weight: bold\">10.0.0.1</span><span style=\"color: #0000d7; text-decoration-color: #0000d7\">:</span><span style=\"color: #0000d7; text-decoration-color: #0000d7; font-weight: bold\">1026</span> | <span style=\"color: #808000; text-decoration-color: #808000\">tenant</span>=<span style=\"color: #0000d7; text-decoration-color: #0000d7\">N</span><span style=\"color: #0000d7; text-decoration-color: #0000d7\">/A</span> | <span style=\"color: #808000; text-decoration-color: #808000\">vendor</span>=<span style=\"color: #0000d7; text-decoration-color: #0000d7\">Orion</span><span style=\"color: #0000d7; text-decoration-color: #0000d7\">-LD</span> | <span style=\"color: #808000; text-decoration-color: #808000\">version</span>=<span style=\"color: #0000d7; text-decoration-color: #0000d7; font-weight: bold\">1.1</span><span style=\"color: #0000d7; text-decoration-color: #0000d7\">.</span><span style=\"color: #0000d7; text-decoration-color: #0000d7; font-weight: bold\">2</span>\n",
       "</pre>\n"
      ],
      "text/plain": [
       "\u001b[32mConnected\u001b[0m to Context Broker at \u001b[1;38;5;20m10.0.0.1\u001b[0m\u001b[38;5;20m:\u001b[0m\u001b[1;38;5;20m1026\u001b[0m | \u001b[33mtenant\u001b[0m=\u001b[38;5;20mN\u001b[0m\u001b[38;5;20m/A\u001b[0m | \u001b[33mvendor\u001b[0m=\u001b[38;5;20mOrion\u001b[0m\u001b[38;5;20m-LD\u001b[0m | \u001b[33mversion\u001b[0m=\u001b[1;38;5;20m1\u001b[0m\u001b[1;38;5;20m.1\u001b[0m\u001b[38;5;20m.\u001b[0m\u001b[1;38;5;20m2\u001b[0m\n"
      ]
     },
     "metadata": {},
     "output_type": "display_data"
    }
   ],
   "source": [
    "host = \"10.0.0.1\"\n",
    "client = Client(hostname=host, port=1026, port_temporal=8080)\n",
    "ctx = \"http://nginx:8000/context-ngsi.jsonld\""
   ]
  },
  {
   "cell_type": "code",
   "execution_count": 24,
   "metadata": {},
   "outputs": [
    {
     "data": {
      "text/html": [
       "<pre style=\"white-space:pre;overflow-x:auto;line-height:normal;font-family:Menlo,'DejaVu Sans Mono',consolas,'Courier New',monospace\"><span style=\"font-weight: bold\">{</span>\n",
       "  <span style=\"color: #000080; text-decoration-color: #000080; font-weight: bold\">\"id\"</span>: <span style=\"color: #008000; text-decoration-color: #008000\">\"urn:ngsi-ld:AnimalDailyObserved:cow4\"</span>,\n",
       "  <span style=\"color: #000080; text-decoration-color: #000080; font-weight: bold\">\"type\"</span>: <span style=\"color: #008000; text-decoration-color: #008000\">\"AnimalDailyObserved\"</span>,\n",
       "  <span style=\"color: #000080; text-decoration-color: #000080; font-weight: bold\">\"@context\"</span>: <span style=\"color: #008000; text-decoration-color: #008000\">\"http://nginx:8000/context-ngsi.jsonld\"</span>,\n",
       "  <span style=\"color: #000080; text-decoration-color: #000080; font-weight: bold\">\"methaneyield\"</span>: <span style=\"font-weight: bold\">{</span>\n",
       "    <span style=\"color: #000080; text-decoration-color: #000080; font-weight: bold\">\"type\"</span>: <span style=\"color: #008000; text-decoration-color: #008000\">\"Property\"</span>,\n",
       "    <span style=\"color: #000080; text-decoration-color: #000080; font-weight: bold\">\"value\"</span>: <span style=\"color: #008080; text-decoration-color: #008080; font-weight: bold\">55</span>,\n",
       "    <span style=\"color: #000080; text-decoration-color: #000080; font-weight: bold\">\"observedAt\"</span>: <span style=\"color: #008000; text-decoration-color: #008000\">\"2023-01-01T00:00:00Z\"</span>\n",
       "  <span style=\"font-weight: bold\">}</span>,\n",
       "  <span style=\"color: #000080; text-decoration-color: #000080; font-weight: bold\">\"net_energy_requirement\"</span>: <span style=\"font-weight: bold\">{</span>\n",
       "    <span style=\"color: #000080; text-decoration-color: #000080; font-weight: bold\">\"type\"</span>: <span style=\"color: #008000; text-decoration-color: #008000\">\"Property\"</span>,\n",
       "    <span style=\"color: #000080; text-decoration-color: #000080; font-weight: bold\">\"value\"</span>: <span style=\"color: #008080; text-decoration-color: #008080; font-weight: bold\">879</span>,\n",
       "    <span style=\"color: #000080; text-decoration-color: #000080; font-weight: bold\">\"observedAt\"</span>: <span style=\"color: #008000; text-decoration-color: #008000\">\"2023-01-01T00:00:00Z\"</span>\n",
       "  <span style=\"font-weight: bold\">}</span>\n",
       "<span style=\"font-weight: bold\">}</span>\n",
       "</pre>\n"
      ],
      "text/plain": [
       "\u001b[1m{\u001b[0m\n",
       "  \u001b[1;34m\"id\"\u001b[0m: \u001b[32m\"urn:ngsi-ld:AnimalDailyObserved:cow4\"\u001b[0m,\n",
       "  \u001b[1;34m\"type\"\u001b[0m: \u001b[32m\"AnimalDailyObserved\"\u001b[0m,\n",
       "  \u001b[1;34m\"@context\"\u001b[0m: \u001b[32m\"http://nginx:8000/context-ngsi.jsonld\"\u001b[0m,\n",
       "  \u001b[1;34m\"methaneyield\"\u001b[0m: \u001b[1m{\u001b[0m\n",
       "    \u001b[1;34m\"type\"\u001b[0m: \u001b[32m\"Property\"\u001b[0m,\n",
       "    \u001b[1;34m\"value\"\u001b[0m: \u001b[1;36m55\u001b[0m,\n",
       "    \u001b[1;34m\"observedAt\"\u001b[0m: \u001b[32m\"2023-01-01T00:00:00Z\"\u001b[0m\n",
       "  \u001b[1m}\u001b[0m,\n",
       "  \u001b[1;34m\"net_energy_requirement\"\u001b[0m: \u001b[1m{\u001b[0m\n",
       "    \u001b[1;34m\"type\"\u001b[0m: \u001b[32m\"Property\"\u001b[0m,\n",
       "    \u001b[1;34m\"value\"\u001b[0m: \u001b[1;36m879\u001b[0m,\n",
       "    \u001b[1;34m\"observedAt\"\u001b[0m: \u001b[32m\"2023-01-01T00:00:00Z\"\u001b[0m\n",
       "  \u001b[1m}\u001b[0m\n",
       "\u001b[1m}\u001b[0m\n"
      ]
     },
     "metadata": {},
     "output_type": "display_data"
    }
   ],
   "source": [
    "# Create a cow\n",
    "import datetime\n",
    "import numpy as np\n",
    "start = datetime.datetime.fromisoformat(\"2023-01-01T00:00:00\")\n",
    "cow = Entity(\"AnimalDailyObserved\", \"cow4\", ctx = ctx)\n",
    "cow.prop(\"methaneyield\", np.random.randint(30, 60), observedat=start)\n",
    "cow.prop(\"net_energy_requirement\", np.random.randint(700, 1000), observedat=start)\n",
    "#cow.tprop(\"observedAt\", start) # This gives errors from orion\n",
    "#cow[\"observedAt\"] = start.isoformat() + \"Z\" # This works\n",
    "#cow.obs() This one works for some reason\n",
    "cow.pprint()\n",
    "#client.create(cow)"
   ]
  },
  {
   "cell_type": "code",
   "execution_count": 36,
   "metadata": {},
   "outputs": [
    {
     "name": "stdout",
     "output_type": "stream",
     "text": [
      "CPU times: user 301 ms, sys: 15.3 ms, total: 316 ms\n",
      "Wall time: 923 ms\n"
     ]
    }
   ],
   "source": [
    "%%time\n",
    "# Create and update the values\n",
    "for i in range(10):\n",
    "    cow = Entity(\"AnimalDailyObserved\", f\"ttcow{i}\", ctx = ctx)\n",
    "    cow.prop(\"methaneyield\", np.random.randint(30, 60))\n",
    "    cow.prop(\"net_energy_requirement\", np.random.randint(700, 1000))\n",
    "    #cow.tprop(\"observedAt\", start) # This gives errors from orion\n",
    "    cow[\"observedAt\"] = start.isoformat() + \"Z\" # This works\n",
    "    #cow.obs() This one works for some reason\n",
    "    #cow.pprint()\n",
    "    #client.create(cow)\n",
    "    for t in range(5):\n",
    "        tn = start + datetime.timedelta(days=t)\n",
    "        cow.prop(\"methaneyield\", np.random.randint(30, 60), observedat=tn)\n",
    "        cow.prop(\"net_energy_requirement\", np.random.randint(700, 1000), observedat=tn)\n",
    "        #cow.prop(\"observedAt\", start.isoformat())\n",
    "        cow[\"observedAt\"] =tn.isoformat() + \"Z\"\n",
    "        #cow.pprint()\n",
    "        client.update(cow)"
   ]
  },
  {
   "cell_type": "code",
   "execution_count": 29,
   "metadata": {},
   "outputs": [],
   "source": [
    "#client.query(\"AnimalDailyObserved\", ctx=ctx)"
   ]
  },
  {
   "attachments": {},
   "cell_type": "markdown",
   "metadata": {},
   "source": [
    "## Query time series"
   ]
  },
  {
   "cell_type": "code",
   "execution_count": 30,
   "metadata": {},
   "outputs": [],
   "source": [
    "# See https://ngsi-ld-tutorials.readthedocs.io/en/latest/short-term-history.html"
   ]
  },
  {
   "attachments": {},
   "cell_type": "markdown",
   "metadata": {},
   "source": [
    "query using requests:"
   ]
  },
  {
   "cell_type": "code",
   "execution_count": 37,
   "metadata": {},
   "outputs": [
    {
     "data": {
      "text/plain": [
       "{'id': 'urn:ngsi-ld:AnimalDailyObserved:ttcow6',\n",
       " 'type': 'AnimalDailyObserved',\n",
       " 'methaneyield': {'type': 'Property',\n",
       "  'values': [[41.0, '2023-01-05T00:00:00Z'],\n",
       "   [32.0, '2023-01-05T00:00:00Z'],\n",
       "   [31.0, '2023-01-04T00:00:00Z'],\n",
       "   [32.0, '2023-01-04T00:00:00Z'],\n",
       "   [36.0, '2023-01-03T00:00:00Z'],\n",
       "   [46.0, '2023-01-03T00:00:00Z'],\n",
       "   [32.0, '2023-01-02T00:00:00Z'],\n",
       "   [30.0, '2023-01-02T00:00:00Z'],\n",
       "   [52.0, '2023-01-01T00:00:00Z'],\n",
       "   [49.0, '2023-01-01T00:00:00Z']]},\n",
       " 'net_energy_requirement': {'type': 'Property',\n",
       "  'values': [[868.0, '2023-01-05T00:00:00Z'],\n",
       "   [963.0, '2023-01-05T00:00:00Z'],\n",
       "   [832.0, '2023-01-04T00:00:00Z'],\n",
       "   [745.0, '2023-01-04T00:00:00Z'],\n",
       "   [885.0, '2023-01-03T00:00:00Z'],\n",
       "   [927.0, '2023-01-03T00:00:00Z'],\n",
       "   [979.0, '2023-01-02T00:00:00Z'],\n",
       "   [988.0, '2023-01-02T00:00:00Z'],\n",
       "   [966.0, '2023-01-01T00:00:00Z'],\n",
       "   [925.0, '2023-01-01T00:00:00Z']]}}"
      ]
     },
     "execution_count": 37,
     "metadata": {},
     "output_type": "execute_result"
    }
   ],
   "source": [
    "import requests\n",
    "import datetime\n",
    "ctx = \"http://nginx:8000/context-ngsi.jsonld\"\n",
    "\n",
    "#Mintaka on mikrok8s\n",
    "url = 'http://10.0.0.2:8080/temporal/entities/' \n",
    "headers = {\n",
    "    'Link': f'<{ctx}>; rel=\"http://www.w3.org/ns/json-ld#context\"; type=\"application/ld+json\"',\n",
    "}\n",
    "params = {\n",
    "    'type': 'AnimalDailyObserved',\n",
    "    'pageSize': 100,\n",
    "    'lastN': 10,\n",
    "    'timeproperty': 'observedAt',\n",
    "    'timerel': 'before',\n",
    "    'timeAt': f'{datetime.datetime.now().isoformat()}',\n",
    "    'options' : 'temporalValues'\n",
    "}\n",
    "\n",
    "response = requests.get(url, headers=headers, params=params)\n",
    "cowdata = response.json()\n",
    "cowdata[1]"
   ]
  },
  {
   "cell_type": "code",
   "execution_count": 32,
   "metadata": {},
   "outputs": [
    {
     "name": "stdout",
     "output_type": "stream",
     "text": [
      "355 ms ± 14 ms per loop (mean ± std. dev. of 7 runs, 1 loop each)\n"
     ]
    }
   ],
   "source": [
    "%%timeit\n",
    "response = requests.get(url, headers=headers, params=params)"
   ]
  },
  {
   "cell_type": "code",
   "execution_count": 9,
   "metadata": {},
   "outputs": [],
   "source": [
    "while True:\n",
    "    response = requests.get(url, headers=headers, params=params)"
   ]
  }
 ],
 "metadata": {
  "kernelspec": {
   "display_name": "Python 3",
   "language": "python",
   "name": "python3"
  },
  "language_info": {
   "codemirror_mode": {
    "name": "ipython",
    "version": 3
   },
   "file_extension": ".py",
   "mimetype": "text/x-python",
   "name": "python",
   "nbconvert_exporter": "python",
   "pygments_lexer": "ipython3",
   "version": "3.10.6"
  },
  "orig_nbformat": 4
 },
 "nbformat": 4,
 "nbformat_minor": 2
}
