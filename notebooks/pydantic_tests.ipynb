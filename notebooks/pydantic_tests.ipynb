{
 "cells": [
  {
   "attachments": {},
   "cell_type": "markdown",
   "metadata": {},
   "source": [
    "### Test using Pydantic datamodels"
   ]
  },
  {
   "cell_type": "code",
   "execution_count": 1,
   "metadata": {},
   "outputs": [],
   "source": [
    "from pydantic import BaseModel, Field\n",
    "from typing import Optional\n",
    "from typing import List, Union, Dict\n",
    "import numpy as np\n",
    "import datetime\n",
    "from ngsildclient import Entity, Client"
   ]
  },
  {
   "attachments": {},
   "cell_type": "markdown",
   "metadata": {},
   "source": [
    "## Serialize directly to NGSI-LD"
   ]
  },
  {
   "cell_type": "code",
   "execution_count": 2,
   "metadata": {},
   "outputs": [
    {
     "data": {
      "text/html": [
       "<pre style=\"white-space:pre;overflow-x:auto;line-height:normal;font-family:Menlo,'DejaVu Sans Mono',consolas,'Courier New',monospace\"><span style=\"font-weight: bold\">{</span>\n",
       "  <span style=\"color: #000080; text-decoration-color: #000080; font-weight: bold\">\"type\"</span>: <span style=\"color: #008000; text-decoration-color: #008000\">\"Day\"</span>,\n",
       "  <span style=\"color: #000080; text-decoration-color: #000080; font-weight: bold\">\"id\"</span>: <span style=\"color: #008000; text-decoration-color: #008000\">\"urn:ngsi-ld:Day:Cow005\"</span>,\n",
       "  <span style=\"color: #000080; text-decoration-color: #000080; font-weight: bold\">\"obs\"</span>: <span style=\"font-weight: bold\">{</span>\n",
       "    <span style=\"color: #000080; text-decoration-color: #000080; font-weight: bold\">\"type\"</span>: <span style=\"color: #008000; text-decoration-color: #008000\">\"Property\"</span>,\n",
       "    <span style=\"color: #000080; text-decoration-color: #000080; font-weight: bold\">\"value\"</span>: <span style=\"font-weight: bold\">{</span>\n",
       "      <span style=\"color: #000080; text-decoration-color: #000080; font-weight: bold\">\"observedAt\"</span>: <span style=\"color: #008000; text-decoration-color: #008000\">\"2023-01-01T00:00:00Z\"</span>,\n",
       "      <span style=\"color: #000080; text-decoration-color: #000080; font-weight: bold\">\"methaneyield\"</span>: <span style=\"color: #008080; text-decoration-color: #008080; font-weight: bold\">35.0</span>,\n",
       "      <span style=\"color: #000080; text-decoration-color: #000080; font-weight: bold\">\"net_energy_requirement\"</span>: <span style=\"color: #008080; text-decoration-color: #008080; font-weight: bold\">38.0</span>\n",
       "    <span style=\"font-weight: bold\">}</span>\n",
       "  <span style=\"font-weight: bold\">}</span>,\n",
       "  <span style=\"color: #000080; text-decoration-color: #000080; font-weight: bold\">\"pred\"</span>: <span style=\"font-weight: bold\">{</span>\n",
       "    <span style=\"color: #000080; text-decoration-color: #000080; font-weight: bold\">\"type\"</span>: <span style=\"color: #008000; text-decoration-color: #008000\">\"Property\"</span>,\n",
       "    <span style=\"color: #000080; text-decoration-color: #000080; font-weight: bold\">\"value\"</span>: <span style=\"font-weight: bold\">{</span>\n",
       "      <span style=\"color: #000080; text-decoration-color: #000080; font-weight: bold\">\"observedAt\"</span>: <span style=\"color: #008000; text-decoration-color: #008000\">\"2023-01-01T00:00:00Z\"</span>,\n",
       "      <span style=\"color: #000080; text-decoration-color: #000080; font-weight: bold\">\"methaneyield\"</span>: <span style=\"color: #008080; text-decoration-color: #008080; font-weight: bold\">51.0</span>,\n",
       "      <span style=\"color: #000080; text-decoration-color: #000080; font-weight: bold\">\"net_energy_requirement\"</span>: <span style=\"color: #008080; text-decoration-color: #008080; font-weight: bold\">45.0</span>\n",
       "    <span style=\"font-weight: bold\">}</span>\n",
       "  <span style=\"font-weight: bold\">}</span>,\n",
       "  <span style=\"color: #000080; text-decoration-color: #000080; font-weight: bold\">\"@context\"</span>: <span style=\"font-weight: bold\">[</span>\n",
       "    <span style=\"color: #008000; text-decoration-color: #008000\">\"https://uri.etsi.org/ngsi-ld/v1/ngsi-ld-core-context.jsonld\"</span>\n",
       "  <span style=\"font-weight: bold\">]</span>\n",
       "<span style=\"font-weight: bold\">}</span>\n",
       "</pre>\n"
      ],
      "text/plain": [
       "\u001b[1m{\u001b[0m\n",
       "  \u001b[1;34m\"type\"\u001b[0m: \u001b[32m\"Day\"\u001b[0m,\n",
       "  \u001b[1;34m\"id\"\u001b[0m: \u001b[32m\"urn:ngsi-ld:Day:Cow005\"\u001b[0m,\n",
       "  \u001b[1;34m\"obs\"\u001b[0m: \u001b[1m{\u001b[0m\n",
       "    \u001b[1;34m\"type\"\u001b[0m: \u001b[32m\"Property\"\u001b[0m,\n",
       "    \u001b[1;34m\"value\"\u001b[0m: \u001b[1m{\u001b[0m\n",
       "      \u001b[1;34m\"observedAt\"\u001b[0m: \u001b[32m\"2023-01-01T00:00:00Z\"\u001b[0m,\n",
       "      \u001b[1;34m\"methaneyield\"\u001b[0m: \u001b[1;36m35.0\u001b[0m,\n",
       "      \u001b[1;34m\"net_energy_requirement\"\u001b[0m: \u001b[1;36m38.0\u001b[0m\n",
       "    \u001b[1m}\u001b[0m\n",
       "  \u001b[1m}\u001b[0m,\n",
       "  \u001b[1;34m\"pred\"\u001b[0m: \u001b[1m{\u001b[0m\n",
       "    \u001b[1;34m\"type\"\u001b[0m: \u001b[32m\"Property\"\u001b[0m,\n",
       "    \u001b[1;34m\"value\"\u001b[0m: \u001b[1m{\u001b[0m\n",
       "      \u001b[1;34m\"observedAt\"\u001b[0m: \u001b[32m\"2023-01-01T00:00:00Z\"\u001b[0m,\n",
       "      \u001b[1;34m\"methaneyield\"\u001b[0m: \u001b[1;36m51.0\u001b[0m,\n",
       "      \u001b[1;34m\"net_energy_requirement\"\u001b[0m: \u001b[1;36m45.0\u001b[0m\n",
       "    \u001b[1m}\u001b[0m\n",
       "  \u001b[1m}\u001b[0m,\n",
       "  \u001b[1;34m\"@context\"\u001b[0m: \u001b[1m[\u001b[0m\n",
       "    \u001b[32m\"https://uri.etsi.org/ngsi-ld/v1/ngsi-ld-core-context.jsonld\"\u001b[0m\n",
       "  \u001b[1m]\u001b[0m\n",
       "\u001b[1m}\u001b[0m\n"
      ]
     },
     "metadata": {},
     "output_type": "display_data"
    }
   ],
   "source": [
    "start = datetime.datetime.fromisoformat(\"2023-01-01T00:00:00\")\n",
    "import yaml\n",
    "\n",
    "class Property(BaseModel):\n",
    "    type: str = \"Property\"\n",
    "    value: Union[str, int, float, bool, Dict, object]\n",
    "\n",
    "class AnimalDay(BaseModel):\n",
    "    #type: str = \"Property\"\n",
    "    observedAt : str\n",
    "    methaneyield: float\n",
    "    net_energy_requirement: float\n",
    "\n",
    "class Day(BaseModel):\n",
    "    type: str = \"Day\"\n",
    "    id: str\n",
    "    obs: Property\n",
    "    pred: Property\n",
    "\n",
    "obs = AnimalDay(observedAt=start.isoformat() + \"Z\", methaneyield= np.random.randint(30, 60),\n",
    "                 net_energy_requirement= np.random.randint(30, 60))\n",
    "pred = AnimalDay(observedAt=start.isoformat() + \"Z\", methaneyield= np.random.randint(30, 60),\n",
    "                 net_energy_requirement= np.random.randint(30, 60))\n",
    "#obs.__dict__\n",
    "d = Day(id = Entity._build_fully_qualified_id(\"Day\", \"Cow005\"), obs = Property(value=obs), pred = Property(value=pred))\n",
    "e = Entity.from_json(d.json())\n",
    "e.pprint()\n"
   ]
  },
  {
   "cell_type": "code",
   "execution_count": 13,
   "metadata": {},
   "outputs": [
    {
     "name": "stdout",
     "output_type": "stream",
     "text": [
      "201\n",
      "\n"
     ]
    }
   ],
   "source": [
    "import requests\n",
    "ctx = \"https://uri.etsi.org/ngsi-ld/default-context/\"\n",
    "headers = {\n",
    "    \"Content-Type\": \"application/ld+json\"\n",
    "}\n",
    "r = requests.post(\"http://localhost:1026/ngsi-ld/v1/entities\", \n",
    "                  headers=headers,\n",
    "                  data=e.to_json())\n",
    "print(r.status_code)\n",
    "print(r.text)"
   ]
  },
  {
   "cell_type": "code",
   "execution_count": 6,
   "metadata": {},
   "outputs": [
    {
     "data": {
      "text/html": [
       "<pre style=\"white-space:pre;overflow-x:auto;line-height:normal;font-family:Menlo,'DejaVu Sans Mono',consolas,'Courier New',monospace\"><span style=\"color: #008000; text-decoration-color: #008000\">Connected</span> to Context Broker at <span style=\"color: #0000d7; text-decoration-color: #0000d7\">localhost:</span><span style=\"color: #0000d7; text-decoration-color: #0000d7; font-weight: bold\">1026</span> | <span style=\"color: #808000; text-decoration-color: #808000\">tenant</span>=<span style=\"color: #0000d7; text-decoration-color: #0000d7\">N</span><span style=\"color: #0000d7; text-decoration-color: #0000d7\">/A</span> | <span style=\"color: #808000; text-decoration-color: #808000\">vendor</span>=<span style=\"color: #0000d7; text-decoration-color: #0000d7\">Orion</span><span style=\"color: #0000d7; text-decoration-color: #0000d7\">-LD</span> | <span style=\"color: #808000; text-decoration-color: #808000\">version</span>=<span style=\"color: #0000d7; text-decoration-color: #0000d7; font-weight: bold\">1.1</span><span style=\"color: #0000d7; text-decoration-color: #0000d7\">.</span><span style=\"color: #0000d7; text-decoration-color: #0000d7; font-weight: bold\">2</span>\n",
       "</pre>\n"
      ],
      "text/plain": [
       "\u001b[32mConnected\u001b[0m to Context Broker at \u001b[38;5;20mlocalhost:\u001b[0m\u001b[1;38;5;20m1026\u001b[0m | \u001b[33mtenant\u001b[0m=\u001b[38;5;20mN\u001b[0m\u001b[38;5;20m/A\u001b[0m | \u001b[33mvendor\u001b[0m=\u001b[38;5;20mOrion\u001b[0m\u001b[38;5;20m-LD\u001b[0m | \u001b[33mversion\u001b[0m=\u001b[1;38;5;20m1\u001b[0m\u001b[1;38;5;20m.1\u001b[0m\u001b[38;5;20m.\u001b[0m\u001b[1;38;5;20m2\u001b[0m\n"
      ]
     },
     "metadata": {},
     "output_type": "display_data"
    },
    {
     "data": {
      "text/plain": [
       "True"
      ]
     },
     "execution_count": 6,
     "metadata": {},
     "output_type": "execute_result"
    }
   ],
   "source": [
    "client = Client(port=1026)\n",
    "client.create(e)"
   ]
  },
  {
   "cell_type": "code",
   "execution_count": 7,
   "metadata": {},
   "outputs": [
    {
     "data": {
      "text/plain": [
       "{'observedAt': '2023-01-01T00:00:00Z',\n",
       " 'methaneyield': 37,\n",
       " 'net_energy_requirement': 49}"
      ]
     },
     "execution_count": 7,
     "metadata": {},
     "output_type": "execute_result"
    }
   ],
   "source": [
    "e1 = client.get(e, ctx= \"https://uri.etsi.org/ngsi-ld/v1/ngsi-ld-core-context.jsonld\")\n",
    "d1 = Day(**e1.to_dict())\n",
    "d1.obs.value"
   ]
  },
  {
   "attachments": {},
   "cell_type": "markdown",
   "metadata": {},
   "source": [
    "### Simpler model -> custom serializer"
   ]
  },
  {
   "cell_type": "code",
   "execution_count": 8,
   "metadata": {},
   "outputs": [
    {
     "data": {
      "text/html": [
       "<pre style=\"white-space:pre;overflow-x:auto;line-height:normal;font-family:Menlo,'DejaVu Sans Mono',consolas,'Courier New',monospace\"><span style=\"font-weight: bold\">{</span>\n",
       "  <span style=\"color: #000080; text-decoration-color: #000080; font-weight: bold\">\"id\"</span>: <span style=\"color: #008000; text-decoration-color: #008000\">\"urn:ngsi-ld:Day:Cow007\"</span>,\n",
       "  <span style=\"color: #000080; text-decoration-color: #000080; font-weight: bold\">\"type\"</span>: <span style=\"color: #008000; text-decoration-color: #008000\">\"Day\"</span>,\n",
       "  <span style=\"color: #000080; text-decoration-color: #000080; font-weight: bold\">\"@context\"</span>: <span style=\"font-weight: bold\">[</span>\n",
       "    <span style=\"color: #008000; text-decoration-color: #008000\">\"https://uri.etsi.org/ngsi-ld/v1/ngsi-ld-core-context.jsonld\"</span>\n",
       "  <span style=\"font-weight: bold\">]</span>,\n",
       "  <span style=\"color: #000080; text-decoration-color: #000080; font-weight: bold\">\"date\"</span>: <span style=\"font-weight: bold\">{</span>\n",
       "    <span style=\"color: #000080; text-decoration-color: #000080; font-weight: bold\">\"type\"</span>: <span style=\"color: #008000; text-decoration-color: #008000\">\"Property\"</span>,\n",
       "    <span style=\"color: #000080; text-decoration-color: #000080; font-weight: bold\">\"value\"</span>: <span style=\"color: #008000; text-decoration-color: #008000\">\"2023-01-01\"</span>\n",
       "  <span style=\"font-weight: bold\">}</span>,\n",
       "  <span style=\"color: #000080; text-decoration-color: #000080; font-weight: bold\">\"obs\"</span>: <span style=\"font-weight: bold\">{</span>\n",
       "    <span style=\"color: #000080; text-decoration-color: #000080; font-weight: bold\">\"type\"</span>: <span style=\"color: #008000; text-decoration-color: #008000\">\"Property\"</span>,\n",
       "    <span style=\"color: #000080; text-decoration-color: #000080; font-weight: bold\">\"value\"</span>: <span style=\"font-weight: bold\">{</span>\n",
       "      <span style=\"color: #000080; text-decoration-color: #000080; font-weight: bold\">\"methaneyield\"</span>: <span style=\"color: #008080; text-decoration-color: #008080; font-weight: bold\">210.0</span>,\n",
       "      <span style=\"color: #000080; text-decoration-color: #000080; font-weight: bold\">\"net_energy_requirement\"</span>: <span style=\"color: #008080; text-decoration-color: #008080; font-weight: bold\">600.0</span>\n",
       "    <span style=\"font-weight: bold\">}</span>,\n",
       "    <span style=\"color: #000080; text-decoration-color: #000080; font-weight: bold\">\"observedAt\"</span>: <span style=\"color: #008000; text-decoration-color: #008000\">\"2023-01-01T00:00:00Z\"</span>\n",
       "  <span style=\"font-weight: bold\">}</span>,\n",
       "  <span style=\"color: #000080; text-decoration-color: #000080; font-weight: bold\">\"pred\"</span>: <span style=\"font-weight: bold\">{</span>\n",
       "    <span style=\"color: #000080; text-decoration-color: #000080; font-weight: bold\">\"type\"</span>: <span style=\"color: #008000; text-decoration-color: #008000\">\"Property\"</span>,\n",
       "    <span style=\"color: #000080; text-decoration-color: #000080; font-weight: bold\">\"value\"</span>: <span style=\"font-weight: bold\">{</span>\n",
       "      <span style=\"color: #000080; text-decoration-color: #000080; font-weight: bold\">\"methaneyield\"</span>: <span style=\"color: #008080; text-decoration-color: #008080; font-weight: bold\">210.0</span>,\n",
       "      <span style=\"color: #000080; text-decoration-color: #000080; font-weight: bold\">\"net_energy_requirement\"</span>: <span style=\"color: #008080; text-decoration-color: #008080; font-weight: bold\">600.0</span>\n",
       "    <span style=\"font-weight: bold\">}</span>,\n",
       "    <span style=\"color: #000080; text-decoration-color: #000080; font-weight: bold\">\"observedAt\"</span>: <span style=\"color: #008000; text-decoration-color: #008000\">\"2023-01-01T00:00:00Z\"</span>\n",
       "  <span style=\"font-weight: bold\">}</span>\n",
       "<span style=\"font-weight: bold\">}</span>\n",
       "</pre>\n"
      ],
      "text/plain": [
       "\u001b[1m{\u001b[0m\n",
       "  \u001b[1;34m\"id\"\u001b[0m: \u001b[32m\"urn:ngsi-ld:Day:Cow007\"\u001b[0m,\n",
       "  \u001b[1;34m\"type\"\u001b[0m: \u001b[32m\"Day\"\u001b[0m,\n",
       "  \u001b[1;34m\"@context\"\u001b[0m: \u001b[1m[\u001b[0m\n",
       "    \u001b[32m\"https://uri.etsi.org/ngsi-ld/v1/ngsi-ld-core-context.jsonld\"\u001b[0m\n",
       "  \u001b[1m]\u001b[0m,\n",
       "  \u001b[1;34m\"date\"\u001b[0m: \u001b[1m{\u001b[0m\n",
       "    \u001b[1;34m\"type\"\u001b[0m: \u001b[32m\"Property\"\u001b[0m,\n",
       "    \u001b[1;34m\"value\"\u001b[0m: \u001b[32m\"2023-01-01\"\u001b[0m\n",
       "  \u001b[1m}\u001b[0m,\n",
       "  \u001b[1;34m\"obs\"\u001b[0m: \u001b[1m{\u001b[0m\n",
       "    \u001b[1;34m\"type\"\u001b[0m: \u001b[32m\"Property\"\u001b[0m,\n",
       "    \u001b[1;34m\"value\"\u001b[0m: \u001b[1m{\u001b[0m\n",
       "      \u001b[1;34m\"methaneyield\"\u001b[0m: \u001b[1;36m210.0\u001b[0m,\n",
       "      \u001b[1;34m\"net_energy_requirement\"\u001b[0m: \u001b[1;36m600.0\u001b[0m\n",
       "    \u001b[1m}\u001b[0m,\n",
       "    \u001b[1;34m\"observedAt\"\u001b[0m: \u001b[32m\"2023-01-01T00:00:00Z\"\u001b[0m\n",
       "  \u001b[1m}\u001b[0m,\n",
       "  \u001b[1;34m\"pred\"\u001b[0m: \u001b[1m{\u001b[0m\n",
       "    \u001b[1;34m\"type\"\u001b[0m: \u001b[32m\"Property\"\u001b[0m,\n",
       "    \u001b[1;34m\"value\"\u001b[0m: \u001b[1m{\u001b[0m\n",
       "      \u001b[1;34m\"methaneyield\"\u001b[0m: \u001b[1;36m210.0\u001b[0m,\n",
       "      \u001b[1;34m\"net_energy_requirement\"\u001b[0m: \u001b[1;36m600.0\u001b[0m\n",
       "    \u001b[1m}\u001b[0m,\n",
       "    \u001b[1;34m\"observedAt\"\u001b[0m: \u001b[32m\"2023-01-01T00:00:00Z\"\u001b[0m\n",
       "  \u001b[1m}\u001b[0m\n",
       "\u001b[1m}\u001b[0m\n"
      ]
     },
     "metadata": {},
     "output_type": "display_data"
    }
   ],
   "source": [
    "class AnimalDay(BaseModel):\n",
    "    methaneyield: float\n",
    "    net_energy_requirement: float\n",
    "\n",
    "class Day(BaseModel):\n",
    "    type: str = \"Day\"\n",
    "    id: str\n",
    "    date: str\n",
    "    observedAt: datetime.datetime\n",
    "    obs: AnimalDay\n",
    "    pred: AnimalDay\n",
    "    \n",
    "obs = AnimalDay(methaneyield=210, net_energy_requirement=600)\n",
    "pred = AnimalDay(methaneyield=210, net_energy_requirement=600)\n",
    "\n",
    "d = Day(id=Entity._build_fully_qualified_id(\"Day\", \"Cow007\"),\n",
    "    observedAt=start,\n",
    "    obs=obs, pred=pred,\n",
    "    date= start.date().isoformat())\n",
    "e = Entity(d.type, d.id)\n",
    "e.prop(\"date\", d.date)\n",
    "data = d.dict()\n",
    "for k,v in data.items():\n",
    "    if k in [\"type\", \"id\", \"date\"]:\n",
    "        continue\n",
    "    elif k != \"observedAt\":\n",
    "        e.prop(k, v, observedat=d.observedAt)\n",
    "\n",
    "e.pprint()"
   ]
  },
  {
   "cell_type": "code",
   "execution_count": 9,
   "metadata": {},
   "outputs": [
    {
     "data": {
      "text/plain": [
       "{'type': 'Day',\n",
       " 'id': 'urn:ngsi-ld:Day:Cow007',\n",
       " 'date': '2023-01-01',\n",
       " 'observedAt': datetime.datetime(2023, 1, 1, 0, 0),\n",
       " 'obs': {'methaneyield': 210.0, 'net_energy_requirement': 600.0},\n",
       " 'pred': {'methaneyield': 210.0, 'net_energy_requirement': 600.0}}"
      ]
     },
     "execution_count": 9,
     "metadata": {},
     "output_type": "execute_result"
    }
   ],
   "source": [
    "#Orion-ld should support keyvalue format -> TODO try to post directly without libary\n",
    "#d.dict()"
   ]
  },
  {
   "cell_type": "code",
   "execution_count": 10,
   "metadata": {},
   "outputs": [
    {
     "data": {
      "text/plain": [
       "True"
      ]
     },
     "execution_count": 10,
     "metadata": {},
     "output_type": "execute_result"
    }
   ],
   "source": [
    "client.update(e)"
   ]
  },
  {
   "cell_type": "code",
   "execution_count": 11,
   "metadata": {},
   "outputs": [
    {
     "data": {
      "text/plain": [
       "Day(type='Day', id='urn:ngsi-ld:Day:Cow007', date='2023-01-01', observedAt=datetime.datetime(2023, 1, 1, 0, 0, tzinfo=datetime.timezone.utc), obs=AnimalDay(methaneyield=210.0, net_energy_requirement=600.0), pred=AnimalDay(methaneyield=210.0, net_energy_requirement=600.0))"
      ]
     },
     "execution_count": 11,
     "metadata": {},
     "output_type": "execute_result"
    }
   ],
   "source": [
    "# Convert back to class, not probably very general method\n",
    "# Might be better to iterate trough a dict instead\n",
    "import ngsildclient\n",
    "out = {}\n",
    "for k,v in e.root.items():\n",
    "    if type(v) is ngsildclient.model.attr.prop.AttrPropValue:\n",
    "        out[k] = v[\"value\"]\n",
    "        if \"observedAt\" in v:\n",
    "            out[\"observedAt\"] = v[\"observedAt\"]\n",
    "    else:\n",
    "        out[k] = v\n",
    "Day(**out)\n",
    "    "
   ]
  },
  {
   "cell_type": "markdown",
   "metadata": {},
   "source": [
    "# GPt4 code to compact dict"
   ]
  },
  {
   "cell_type": "code",
   "execution_count": 13,
   "metadata": {},
   "outputs": [],
   "source": [
    "def compact_ngsi_ld_document(document: dict):\n",
    "    compacted_document = document.copy()\n",
    "    \n",
    "    for key, value in document.items():\n",
    "        if isinstance(value, dict) and \"type\" in value and value[\"type\"] == \"Property\":\n",
    "            compacted_value = value[\"value\"]\n",
    "            if \"observedAt\" in value:\n",
    "                compacted_value[\"observedAt\"] = value[\"observedAt\"]\n",
    "            compacted_document[key] = compacted_value\n",
    "    \n",
    "    return compacted_document"
   ]
  },
  {
   "cell_type": "code",
   "execution_count": 14,
   "metadata": {},
   "outputs": [
    {
     "data": {
      "text/html": [
       "<pre style=\"white-space:pre;overflow-x:auto;line-height:normal;font-family:Menlo,'DejaVu Sans Mono',consolas,'Courier New',monospace\"><span style=\"font-weight: bold\">{</span>\n",
       "  <span style=\"color: #000080; text-decoration-color: #000080; font-weight: bold\">\"id\"</span>: <span style=\"color: #008000; text-decoration-color: #008000\">\"urn:ngsi-ld:Day:Cow007\"</span>,\n",
       "  <span style=\"color: #000080; text-decoration-color: #000080; font-weight: bold\">\"type\"</span>: <span style=\"color: #008000; text-decoration-color: #008000\">\"Day\"</span>,\n",
       "  <span style=\"color: #000080; text-decoration-color: #000080; font-weight: bold\">\"@context\"</span>: <span style=\"font-weight: bold\">[</span>\n",
       "    <span style=\"color: #008000; text-decoration-color: #008000\">\"https://uri.etsi.org/ngsi-ld/v1/ngsi-ld-core-context.jsonld\"</span>\n",
       "  <span style=\"font-weight: bold\">]</span>,\n",
       "  <span style=\"color: #000080; text-decoration-color: #000080; font-weight: bold\">\"date\"</span>: <span style=\"font-weight: bold\">{</span>\n",
       "    <span style=\"color: #000080; text-decoration-color: #000080; font-weight: bold\">\"type\"</span>: <span style=\"color: #008000; text-decoration-color: #008000\">\"Property\"</span>,\n",
       "    <span style=\"color: #000080; text-decoration-color: #000080; font-weight: bold\">\"value\"</span>: <span style=\"color: #008000; text-decoration-color: #008000\">\"2023-01-01\"</span>\n",
       "  <span style=\"font-weight: bold\">}</span>,\n",
       "  <span style=\"color: #000080; text-decoration-color: #000080; font-weight: bold\">\"obs\"</span>: <span style=\"font-weight: bold\">{</span>\n",
       "    <span style=\"color: #000080; text-decoration-color: #000080; font-weight: bold\">\"type\"</span>: <span style=\"color: #008000; text-decoration-color: #008000\">\"Property\"</span>,\n",
       "    <span style=\"color: #000080; text-decoration-color: #000080; font-weight: bold\">\"value\"</span>: <span style=\"font-weight: bold\">{</span>\n",
       "      <span style=\"color: #000080; text-decoration-color: #000080; font-weight: bold\">\"methaneyield\"</span>: <span style=\"color: #008080; text-decoration-color: #008080; font-weight: bold\">210.0</span>,\n",
       "      <span style=\"color: #000080; text-decoration-color: #000080; font-weight: bold\">\"net_energy_requirement\"</span>: <span style=\"color: #008080; text-decoration-color: #008080; font-weight: bold\">600.0</span>\n",
       "    <span style=\"font-weight: bold\">}</span>,\n",
       "    <span style=\"color: #000080; text-decoration-color: #000080; font-weight: bold\">\"observedAt\"</span>: <span style=\"color: #008000; text-decoration-color: #008000\">\"2023-01-01T00:00:00Z\"</span>\n",
       "  <span style=\"font-weight: bold\">}</span>,\n",
       "  <span style=\"color: #000080; text-decoration-color: #000080; font-weight: bold\">\"pred\"</span>: <span style=\"font-weight: bold\">{</span>\n",
       "    <span style=\"color: #000080; text-decoration-color: #000080; font-weight: bold\">\"type\"</span>: <span style=\"color: #008000; text-decoration-color: #008000\">\"Property\"</span>,\n",
       "    <span style=\"color: #000080; text-decoration-color: #000080; font-weight: bold\">\"value\"</span>: <span style=\"font-weight: bold\">{</span>\n",
       "      <span style=\"color: #000080; text-decoration-color: #000080; font-weight: bold\">\"methaneyield\"</span>: <span style=\"color: #008080; text-decoration-color: #008080; font-weight: bold\">210.0</span>,\n",
       "      <span style=\"color: #000080; text-decoration-color: #000080; font-weight: bold\">\"net_energy_requirement\"</span>: <span style=\"color: #008080; text-decoration-color: #008080; font-weight: bold\">600.0</span>\n",
       "    <span style=\"font-weight: bold\">}</span>,\n",
       "    <span style=\"color: #000080; text-decoration-color: #000080; font-weight: bold\">\"observedAt\"</span>: <span style=\"color: #008000; text-decoration-color: #008000\">\"2023-01-01T00:00:00Z\"</span>\n",
       "  <span style=\"font-weight: bold\">}</span>\n",
       "<span style=\"font-weight: bold\">}</span>\n",
       "</pre>\n"
      ],
      "text/plain": [
       "\u001b[1m{\u001b[0m\n",
       "  \u001b[1;34m\"id\"\u001b[0m: \u001b[32m\"urn:ngsi-ld:Day:Cow007\"\u001b[0m,\n",
       "  \u001b[1;34m\"type\"\u001b[0m: \u001b[32m\"Day\"\u001b[0m,\n",
       "  \u001b[1;34m\"@context\"\u001b[0m: \u001b[1m[\u001b[0m\n",
       "    \u001b[32m\"https://uri.etsi.org/ngsi-ld/v1/ngsi-ld-core-context.jsonld\"\u001b[0m\n",
       "  \u001b[1m]\u001b[0m,\n",
       "  \u001b[1;34m\"date\"\u001b[0m: \u001b[1m{\u001b[0m\n",
       "    \u001b[1;34m\"type\"\u001b[0m: \u001b[32m\"Property\"\u001b[0m,\n",
       "    \u001b[1;34m\"value\"\u001b[0m: \u001b[32m\"2023-01-01\"\u001b[0m\n",
       "  \u001b[1m}\u001b[0m,\n",
       "  \u001b[1;34m\"obs\"\u001b[0m: \u001b[1m{\u001b[0m\n",
       "    \u001b[1;34m\"type\"\u001b[0m: \u001b[32m\"Property\"\u001b[0m,\n",
       "    \u001b[1;34m\"value\"\u001b[0m: \u001b[1m{\u001b[0m\n",
       "      \u001b[1;34m\"methaneyield\"\u001b[0m: \u001b[1;36m210.0\u001b[0m,\n",
       "      \u001b[1;34m\"net_energy_requirement\"\u001b[0m: \u001b[1;36m600.0\u001b[0m\n",
       "    \u001b[1m}\u001b[0m,\n",
       "    \u001b[1;34m\"observedAt\"\u001b[0m: \u001b[32m\"2023-01-01T00:00:00Z\"\u001b[0m\n",
       "  \u001b[1m}\u001b[0m,\n",
       "  \u001b[1;34m\"pred\"\u001b[0m: \u001b[1m{\u001b[0m\n",
       "    \u001b[1;34m\"type\"\u001b[0m: \u001b[32m\"Property\"\u001b[0m,\n",
       "    \u001b[1;34m\"value\"\u001b[0m: \u001b[1m{\u001b[0m\n",
       "      \u001b[1;34m\"methaneyield\"\u001b[0m: \u001b[1;36m210.0\u001b[0m,\n",
       "      \u001b[1;34m\"net_energy_requirement\"\u001b[0m: \u001b[1;36m600.0\u001b[0m\n",
       "    \u001b[1m}\u001b[0m,\n",
       "    \u001b[1;34m\"observedAt\"\u001b[0m: \u001b[32m\"2023-01-01T00:00:00Z\"\u001b[0m\n",
       "  \u001b[1m}\u001b[0m\n",
       "\u001b[1m}\u001b[0m\n"
      ]
     },
     "metadata": {},
     "output_type": "display_data"
    },
    {
     "name": "stdout",
     "output_type": "stream",
     "text": [
      "{\n",
      "  \"id\": \"urn:ngsi-ld:Day:Cow007\",\n",
      "  \"type\": \"Day\",\n",
      "  \"@context\": [\n",
      "    \"https://uri.etsi.org/ngsi-ld/v1/ngsi-ld-core-context.jsonld\"\n",
      "  ],\n",
      "  \"date\": \"2023-01-01\",\n",
      "  \"obs\": {\n",
      "    \"methaneyield\": 210.0,\n",
      "    \"net_energy_requirement\": 600.0,\n",
      "    \"observedAt\": \"2023-01-01T00:00:00Z\"\n",
      "  },\n",
      "  \"pred\": {\n",
      "    \"methaneyield\": 210.0,\n",
      "    \"net_energy_requirement\": 600.0,\n",
      "    \"observedAt\": \"2023-01-01T00:00:00Z\"\n",
      "  }\n",
      "}\n"
     ]
    }
   ],
   "source": [
    "import json\n",
    "e.pprint()\n",
    "print(json.dumps(compact_ngsi_ld_document(json.loads(e.to_json())), indent=2))"
   ]
  },
  {
   "attachments": {},
   "cell_type": "markdown",
   "metadata": {},
   "source": [
    "### Using SmartDataModels code"
   ]
  },
  {
   "cell_type": "code",
   "execution_count": 15,
   "metadata": {},
   "outputs": [
    {
     "data": {
      "text/plain": [
       "Day(type='Day', id='urn:ngsi-ld:Day:Cow007', date='2023-01-01', observedAt=datetime.datetime(2023, 1, 1, 0, 0, tzinfo=datetime.timezone.utc), obs=AnimalDay(methaneyield=210.0, net_energy_requirement=600.0), pred=AnimalDay(methaneyield=210.0, net_energy_requirement=600.0))"
      ]
     },
     "execution_count": 15,
     "metadata": {},
     "output_type": "execute_result"
    }
   ],
   "source": [
    "import examples_conversor\n",
    "norm = examples_conversor.normalized2keyvalues(json.loads(e.to_json()))\n",
    "norm[\"observedAt\"] = e[\"obs\"][\"observedAt\"] # Conversion code drops observedAt fields\n",
    "Day(**norm)"
   ]
  },
  {
   "attachments": {},
   "cell_type": "markdown",
   "metadata": {},
   "source": [
    "### Schema"
   ]
  },
  {
   "cell_type": "code",
   "execution_count": 16,
   "metadata": {},
   "outputs": [
    {
     "name": "stdout",
     "output_type": "stream",
     "text": [
      "definitions:\n",
      "  AnimalDay:\n",
      "    properties:\n",
      "      methaneyield:\n",
      "        title: Methaneyield\n",
      "        type: number\n",
      "      net_energy_requirement:\n",
      "        title: Net Energy Requirement\n",
      "        type: number\n",
      "    required:\n",
      "    - methaneyield\n",
      "    - net_energy_requirement\n",
      "    title: AnimalDay\n",
      "    type: object\n",
      "properties:\n",
      "  date:\n",
      "    title: Date\n",
      "    type: string\n",
      "  id:\n",
      "    title: Id\n",
      "    type: string\n",
      "  obs:\n",
      "    $ref: '#/definitions/AnimalDay'\n",
      "  observedAt:\n",
      "    format: date-time\n",
      "    title: Observedat\n",
      "    type: string\n",
      "  pred:\n",
      "    $ref: '#/definitions/AnimalDay'\n",
      "  type:\n",
      "    default: Day\n",
      "    title: Type\n",
      "    type: string\n",
      "required:\n",
      "- id\n",
      "- date\n",
      "- observedAt\n",
      "- obs\n",
      "- pred\n",
      "title: Day\n",
      "type: object\n",
      "\n"
     ]
    }
   ],
   "source": [
    "print(yaml.dump(Day.schema()))"
   ]
  }
 ],
 "metadata": {
  "kernelspec": {
   "display_name": "Python 3",
   "language": "python",
   "name": "python3"
  },
  "language_info": {
   "codemirror_mode": {
    "name": "ipython",
    "version": 3
   },
   "file_extension": ".py",
   "mimetype": "text/x-python",
   "name": "python",
   "nbconvert_exporter": "python",
   "pygments_lexer": "ipython3",
   "version": "3.10.6"
  },
  "orig_nbformat": 4
 },
 "nbformat": 4,
 "nbformat_minor": 2
}
