{
 "cells": [
  {
   "attachments": {},
   "cell_type": "markdown",
   "metadata": {},
   "source": [
    "## Interact with NGSI-LD context broker usign the data model\n",
    "\n",
    "Uses orion-ld broker"
   ]
  },
  {
   "cell_type": "code",
   "execution_count": 105,
   "metadata": {},
   "outputs": [],
   "source": [
    "from ngsildclient import Entity, Client"
   ]
  },
  {
   "cell_type": "code",
   "execution_count": 106,
   "metadata": {},
   "outputs": [
    {
     "data": {
      "text/html": [
       "<pre style=\"white-space:pre;overflow-x:auto;line-height:normal;font-family:Menlo,'DejaVu Sans Mono',consolas,'Courier New',monospace\"><span style=\"color: #008000; text-decoration-color: #008000\">Connected</span> to Context Broker at <span style=\"color: #0000d7; text-decoration-color: #0000d7\">localhost:</span><span style=\"color: #0000d7; text-decoration-color: #0000d7; font-weight: bold\">1026</span> | <span style=\"color: #808000; text-decoration-color: #808000\">tenant</span>=<span style=\"color: #0000d7; text-decoration-color: #0000d7\">N</span><span style=\"color: #0000d7; text-decoration-color: #0000d7\">/A</span> | <span style=\"color: #808000; text-decoration-color: #808000\">vendor</span>=<span style=\"color: #0000d7; text-decoration-color: #0000d7\">Orion</span><span style=\"color: #0000d7; text-decoration-color: #0000d7\">-LD</span> | <span style=\"color: #808000; text-decoration-color: #808000\">version</span>=<span style=\"color: #0000d7; text-decoration-color: #0000d7; font-weight: bold\">1.1</span><span style=\"color: #0000d7; text-decoration-color: #0000d7\">.</span><span style=\"color: #0000d7; text-decoration-color: #0000d7; font-weight: bold\">2</span>\n",
       "</pre>\n"
      ],
      "text/plain": [
       "\u001b[32mConnected\u001b[0m to Context Broker at \u001b[38;5;20mlocalhost:\u001b[0m\u001b[1;38;5;20m1026\u001b[0m | \u001b[33mtenant\u001b[0m=\u001b[38;5;20mN\u001b[0m\u001b[38;5;20m/A\u001b[0m | \u001b[33mvendor\u001b[0m=\u001b[38;5;20mOrion\u001b[0m\u001b[38;5;20m-LD\u001b[0m | \u001b[33mversion\u001b[0m=\u001b[1;38;5;20m1\u001b[0m\u001b[1;38;5;20m.1\u001b[0m\u001b[38;5;20m.\u001b[0m\u001b[1;38;5;20m2\u001b[0m\n"
      ]
     },
     "metadata": {},
     "output_type": "display_data"
    }
   ],
   "source": [
    "#client = Client(hostname=\"localhost\", port=8080)\n",
    "client = Client(hostname=\"localhost\", port=1026, port_temporal=8080)"
   ]
  },
  {
   "cell_type": "code",
   "execution_count": 28,
   "metadata": {},
   "outputs": [
    {
     "name": "stdout",
     "output_type": "stream",
     "text": [
      "CPU times: user 1.68 s, sys: 98.1 ms, total: 1.78 s\n",
      "Wall time: 5.51 s\n"
     ]
    }
   ],
   "source": [
    "%%time\n",
    "ctx = \"https://raw.githubusercontent.com/smart-data-models/dataModel.Agrifood/93bff748cfdba3a557eca1952e0d3705f83b243e/context.jsonld\"\n",
    "for idx in range(1000):\n",
    "    animal = Entity(\"Animal\", f\"cow{idx}\", ctx=ctx)\n",
    "    animal.prop(\"breed\", \"AY\")\n",
    "    animal.prop(\"legalid\", idx)\n",
    "    client.create(animal)"
   ]
  },
  {
   "cell_type": "code",
   "execution_count": 29,
   "metadata": {},
   "outputs": [
    {
     "data": {
      "text/html": [
       "<pre style=\"white-space:pre;overflow-x:auto;line-height:normal;font-family:Menlo,'DejaVu Sans Mono',consolas,'Courier New',monospace\"><span style=\"color: #008000; text-decoration-color: #008000\">Entities deleted : 1000/1000 [1.00]</span>\n",
       "</pre>\n"
      ],
      "text/plain": [
       "\u001b[32mEntities deleted : 1000/1000 [1.00]\u001b[0m\n"
      ]
     },
     "metadata": {},
     "output_type": "display_data"
    },
    {
     "data": {
      "text/plain": [
       "op: delete, success: 1000, errors: 0"
      ]
     },
     "execution_count": 29,
     "metadata": {},
     "output_type": "execute_result"
    }
   ],
   "source": [
    "client.delete(client.query(\"Animal\", ctx=ctx))"
   ]
  },
  {
   "cell_type": "code",
   "execution_count": 30,
   "metadata": {},
   "outputs": [
    {
     "data": {
      "text/html": [
       "<pre style=\"white-space:pre;overflow-x:auto;line-height:normal;font-family:Menlo,'DejaVu Sans Mono',consolas,'Courier New',monospace\"><span style=\"color: #008000; text-decoration-color: #008000\">Entities created : 1000/1000 [1.00]</span>\n",
       "</pre>\n"
      ],
      "text/plain": [
       "\u001b[32mEntities created : 1000/1000 [1.00]\u001b[0m\n"
      ]
     },
     "metadata": {},
     "output_type": "display_data"
    },
    {
     "name": "stdout",
     "output_type": "stream",
     "text": [
      "CPU times: user 69.1 ms, sys: 0 ns, total: 69.1 ms\n",
      "Wall time: 941 ms\n"
     ]
    },
    {
     "data": {
      "text/plain": [
       "op: create, success: 1000, errors: 0"
      ]
     },
     "execution_count": 30,
     "metadata": {},
     "output_type": "execute_result"
    }
   ],
   "source": [
    "%%time\n",
    "cows = []\n",
    "for idx in range(1000):\n",
    "    animal = Entity(\"Animal\", f\"cow{idx}\", ctx=ctx)\n",
    "    animal.prop(\"breed\", \"AY\")\n",
    "    animal.prop(\"legalid\", idx)\n",
    "    cows.append(animal)\n",
    "client.create(cows)   "
   ]
  },
  {
   "cell_type": "code",
   "execution_count": 31,
   "metadata": {},
   "outputs": [
    {
     "name": "stdout",
     "output_type": "stream",
     "text": [
      "94.6 ms ± 12.2 ms per loop (mean ± std. dev. of 7 runs, 10 loops each)\n"
     ]
    }
   ],
   "source": [
    "%%timeit\n",
    "cows = client.query(\"Animal\", ctx=ctx)"
   ]
  },
  {
   "cell_type": "code",
   "execution_count": 8,
   "metadata": {},
   "outputs": [
    {
     "data": {
      "text/html": [
       "<pre style=\"white-space:pre;overflow-x:auto;line-height:normal;font-family:Menlo,'DejaVu Sans Mono',consolas,'Courier New',monospace\"><span style=\"color: #008000; text-decoration-color: #008000\">Entities deleted : 1000/1000 [1.00]</span>\n",
       "</pre>\n"
      ],
      "text/plain": [
       "\u001b[32mEntities deleted : 1000/1000 [1.00]\u001b[0m\n"
      ]
     },
     "metadata": {},
     "output_type": "display_data"
    },
    {
     "data": {
      "text/plain": [
       "op: delete, success: 1000, errors: 0"
      ]
     },
     "execution_count": 8,
     "metadata": {},
     "output_type": "execute_result"
    }
   ],
   "source": [
    "#Clean up\n",
    "#client.delete(client.query(\"Animal\", ctx=ctx))"
   ]
  },
  {
   "cell_type": "markdown",
   "metadata": {},
   "source": [
    "### Check entity types"
   ]
  },
  {
   "cell_type": "code",
   "execution_count": 33,
   "metadata": {},
   "outputs": [
    {
     "name": "stdout",
     "output_type": "stream",
     "text": [
      "{\n",
      "  \"id\": \"urn:ngsi-ld:EntityTypeList:3713a536-ce2b-11ed-91e5-0242ac120107\",\n",
      "  \"type\": \"EntityTypeList\",\n",
      "  \"typeList\": [\n",
      "    \"https://smartdatamodels.org/dataModel.Agrifood/Animal\",\n",
      "    \"https://uri.fiware.org/ns/dataModels#Building\",\n",
      "    \"https://uri.fiware.org/ns/dataModels#Person\"\n",
      "  ]\n",
      "}\n"
     ]
    }
   ],
   "source": [
    "import requests\n",
    "import json\n",
    "es = requests.get(\"http://localhost:1026/ngsi-ld/v1/types\").json()\n",
    "print(json.dumps(es, indent=2))"
   ]
  },
  {
   "attachments": {},
   "cell_type": "markdown",
   "metadata": {},
   "source": [
    "## Time series data"
   ]
  },
  {
   "cell_type": "code",
   "execution_count": 71,
   "metadata": {},
   "outputs": [
    {
     "data": {
      "text/html": [
       "<pre style=\"white-space:pre;overflow-x:auto;line-height:normal;font-family:Menlo,'DejaVu Sans Mono',consolas,'Courier New',monospace\"><span style=\"color: #008000; text-decoration-color: #008000\">Connected</span> to Context Broker at <span style=\"color: #0000d7; text-decoration-color: #0000d7\">localhost:</span><span style=\"color: #0000d7; text-decoration-color: #0000d7; font-weight: bold\">1026</span> | <span style=\"color: #808000; text-decoration-color: #808000\">tenant</span>=<span style=\"color: #0000d7; text-decoration-color: #0000d7\">openiot</span> | <span style=\"color: #808000; text-decoration-color: #808000\">vendor</span>=<span style=\"color: #0000d7; text-decoration-color: #0000d7\">Orion</span><span style=\"color: #0000d7; text-decoration-color: #0000d7\">-LD</span> | <span style=\"color: #808000; text-decoration-color: #808000\">version</span>=<span style=\"color: #0000d7; text-decoration-color: #0000d7; font-weight: bold\">1.1</span><span style=\"color: #0000d7; text-decoration-color: #0000d7\">.</span><span style=\"color: #0000d7; text-decoration-color: #0000d7; font-weight: bold\">2</span>\n",
       "</pre>\n"
      ],
      "text/plain": [
       "\u001b[32mConnected\u001b[0m to Context Broker at \u001b[38;5;20mlocalhost:\u001b[0m\u001b[1;38;5;20m1026\u001b[0m | \u001b[33mtenant\u001b[0m=\u001b[38;5;20mopeniot\u001b[0m | \u001b[33mvendor\u001b[0m=\u001b[38;5;20mOrion\u001b[0m\u001b[38;5;20m-LD\u001b[0m | \u001b[33mversion\u001b[0m=\u001b[1;38;5;20m1\u001b[0m\u001b[1;38;5;20m.1\u001b[0m\u001b[38;5;20m.\u001b[0m\u001b[1;38;5;20m2\u001b[0m\n"
      ]
     },
     "metadata": {},
     "output_type": "display_data"
    }
   ],
   "source": [
    "# Testing with\n",
    "# https://ngsi-ld-tutorials.readthedocs.io/en/latest/short-term-history.html\n",
    "import pandas as pd\n",
    "ctx = \"http://context/ngsi-context.jsonld\"\n",
    "tclient = Client(port=1026, port_temporal=8080, tenant=\"openiot\")"
   ]
  },
  {
   "cell_type": "code",
   "execution_count": 130,
   "metadata": {},
   "outputs": [
    {
     "name": "stdout",
     "output_type": "stream",
     "text": [
      "CPU times: user 2.27 ms, sys: 0 ns, total: 2.27 ms\n",
      "Wall time: 303 ms\n",
      "5\n"
     ]
    }
   ],
   "source": [
    "animals = tclient.query(type=\"Animal\", ctx=ctx)\n",
    "%time a1 = tclient.temporal.get(animals[1])\n",
    "print(len(a1))\n",
    "#pd.DataFrame(a1[\"https://purl.bioontology.org/ontology/MESH/D006339\"][\"values\"])"
   ]
  },
  {
   "cell_type": "code",
   "execution_count": 124,
   "metadata": {},
   "outputs": [
    {
     "data": {
      "text/plain": [
       "'2023-03-29T19:17:24.205281'"
      ]
     },
     "execution_count": 124,
     "metadata": {},
     "output_type": "execute_result"
    }
   ],
   "source": [
    "import datetime\n",
    "datetime.datetime.now().isoformat()"
   ]
  },
  {
   "cell_type": "code",
   "execution_count": 120,
   "metadata": {},
   "outputs": [
    {
     "data": {
      "text/plain": [
       "[{'id': 'urn:ngsi-ld:Animal:pig021',\n",
       "  'type': 'Animal',\n",
       "  'sex': {'type': 'Property',\n",
       "   'value': 'male',\n",
       "   'modifiedAt': '2023-03-29T11:45:37.453Z',\n",
       "   'instanceId': 'urn:ngsi-ld:attribute:instance:39dae580-ce27-11ed-b3fe-0242ac120107'}},\n",
       " {'id': 'urn:ngsi-ld:Animal:pig011',\n",
       "  'type': 'Animal',\n",
       "  'sex': {'type': 'Property',\n",
       "   'value': 'male',\n",
       "   'modifiedAt': '2023-03-29T11:45:37.453Z',\n",
       "   'instanceId': 'urn:ngsi-ld:attribute:instance:39dab290-ce27-11ed-b3fe-0242ac120107'}},\n",
       " {'id': 'urn:ngsi-ld:Animal:pig025',\n",
       "  'type': 'Animal',\n",
       "  'sex': {'type': 'Property',\n",
       "   'value': 'male',\n",
       "   'modifiedAt': '2023-03-29T11:45:37.453Z',\n",
       "   'instanceId': 'urn:ngsi-ld:attribute:instance:39daf994-ce27-11ed-b3fe-0242ac120107'}},\n",
       " {'id': 'urn:ngsi-ld:Animal:pig003',\n",
       "  'type': 'Animal',\n",
       "  'sex': {'type': 'Property',\n",
       "   'value': 'male',\n",
       "   'modifiedAt': '2023-03-29T11:45:37.453Z',\n",
       "   'instanceId': 'urn:ngsi-ld:attribute:instance:39da8c66-ce27-11ed-b3fe-0242ac120107'}},\n",
       " {'id': 'urn:ngsi-ld:Animal:pig015',\n",
       "  'type': 'Animal',\n",
       "  'sex': {'type': 'Property',\n",
       "   'value': 'male',\n",
       "   'modifiedAt': '2023-03-29T11:45:37.453Z',\n",
       "   'instanceId': 'urn:ngsi-ld:attribute:instance:39dac582-ce27-11ed-b3fe-0242ac120107'}},\n",
       " {'id': 'urn:ngsi-ld:Animal:pig023',\n",
       "  'type': 'Animal',\n",
       "  'sex': {'type': 'Property',\n",
       "   'value': 'male',\n",
       "   'modifiedAt': '2023-03-29T11:45:37.453Z',\n",
       "   'instanceId': 'urn:ngsi-ld:attribute:instance:39daf0e8-ce27-11ed-b3fe-0242ac120107'}},\n",
       " {'id': 'urn:ngsi-ld:Animal:pig001',\n",
       "  'type': 'Animal',\n",
       "  'sex': {'type': 'Property',\n",
       "   'value': 'male',\n",
       "   'modifiedAt': '2023-03-29T11:45:37.453Z',\n",
       "   'instanceId': 'urn:ngsi-ld:attribute:instance:39da8446-ce27-11ed-b3fe-0242ac120107'}},\n",
       " {'id': 'urn:ngsi-ld:Animal:pig013',\n",
       "  'type': 'Animal',\n",
       "  'sex': {'type': 'Property',\n",
       "   'value': 'male',\n",
       "   'modifiedAt': '2023-03-29T11:45:37.453Z',\n",
       "   'instanceId': 'urn:ngsi-ld:attribute:instance:39daba24-ce27-11ed-b3fe-0242ac120107'}},\n",
       " {'id': 'urn:ngsi-ld:Animal:pig029',\n",
       "  'type': 'Animal',\n",
       "  'sex': {'type': 'Property',\n",
       "   'value': 'male',\n",
       "   'modifiedAt': '2023-03-29T11:45:37.453Z',\n",
       "   'instanceId': 'urn:ngsi-ld:attribute:instance:39db0d58-ce27-11ed-b3fe-0242ac120107'}},\n",
       " {'id': 'urn:ngsi-ld:Animal:pig007',\n",
       "  'type': 'Animal',\n",
       "  'sex': {'type': 'Property',\n",
       "   'value': 'male',\n",
       "   'modifiedAt': '2023-03-29T11:45:37.453Z',\n",
       "   'instanceId': 'urn:ngsi-ld:attribute:instance:39da9d78-ce27-11ed-b3fe-0242ac120107'}},\n",
       " {'id': 'urn:ngsi-ld:Animal:cow001',\n",
       "  'type': 'Animal',\n",
       "  'sex': {'type': 'Property',\n",
       "   'value': 'male',\n",
       "   'modifiedAt': '2023-03-29T11:45:37.453Z',\n",
       "   'instanceId': 'urn:ngsi-ld:attribute:instance:39da8248-ce27-11ed-b3fe-0242ac120107'}},\n",
       " {'id': 'urn:ngsi-ld:Animal:pig019',\n",
       "  'type': 'Animal',\n",
       "  'sex': {'type': 'Property',\n",
       "   'value': 'male',\n",
       "   'modifiedAt': '2023-03-29T11:45:37.453Z',\n",
       "   'instanceId': 'urn:ngsi-ld:attribute:instance:39dadcb6-ce27-11ed-b3fe-0242ac120107'}},\n",
       " {'id': 'urn:ngsi-ld:Animal:pig027',\n",
       "  'type': 'Animal',\n",
       "  'sex': {'type': 'Property',\n",
       "   'value': 'male',\n",
       "   'modifiedAt': '2023-03-29T11:45:37.453Z',\n",
       "   'instanceId': 'urn:ngsi-ld:attribute:instance:39db0452-ce27-11ed-b3fe-0242ac120107'}},\n",
       " {'id': 'urn:ngsi-ld:Animal:pig005',\n",
       "  'type': 'Animal',\n",
       "  'sex': {'type': 'Property',\n",
       "   'value': 'male',\n",
       "   'modifiedAt': '2023-03-29T11:45:37.453Z',\n",
       "   'instanceId': 'urn:ngsi-ld:attribute:instance:39da9472-ce27-11ed-b3fe-0242ac120107'}},\n",
       " {'id': 'urn:ngsi-ld:Animal:cow021',\n",
       "  'type': 'Animal',\n",
       "  'sex': {'type': 'Property',\n",
       "   'value': 'male',\n",
       "   'modifiedAt': '2023-03-29T11:45:37.453Z',\n",
       "   'instanceId': 'urn:ngsi-ld:attribute:instance:39dae29c-ce27-11ed-b3fe-0242ac120107'}},\n",
       " {'id': 'urn:ngsi-ld:Animal:pig017',\n",
       "  'type': 'Animal',\n",
       "  'sex': {'type': 'Property',\n",
       "   'value': 'male',\n",
       "   'modifiedAt': '2023-03-29T11:45:37.453Z',\n",
       "   'instanceId': 'urn:ngsi-ld:attribute:instance:39dad158-ce27-11ed-b3fe-0242ac120107'}},\n",
       " {'id': 'urn:ngsi-ld:Animal:pig009',\n",
       "  'type': 'Animal',\n",
       "  'sex': {'type': 'Property',\n",
       "   'value': 'male',\n",
       "   'modifiedAt': '2023-03-29T11:45:37.453Z',\n",
       "   'instanceId': 'urn:ngsi-ld:attribute:instance:39daaa20-ce27-11ed-b3fe-0242ac120107'}}]"
      ]
     },
     "execution_count": 120,
     "metadata": {},
     "output_type": "execute_result"
    }
   ],
   "source": [
    "import requests\n",
    "\n",
    "url = 'http://localhost:8080/temporal/entities/'\n",
    "headers = {\n",
    "    'NGSILD-Tenant': 'openiot',\n",
    "    'Link': '<http://context/ngsi-context.jsonld>; rel=\"http://www.w3.org/ns/json-ld#context\"; type=\"application/ld+json\"',\n",
    "}\n",
    "params = {\n",
    "    'type': 'Animal',\n",
    "    'pageSize': 100,\n",
    "    'lastN': 3,\n",
    "    'q': 'sex==\"male\"',\n",
    "    'timeproperty': 'modifiedAt',\n",
    "    'options': 'count',\n",
    "    'attrs': 'sex,heartRate',\n",
    "    'timerel': 'before',\n",
    "    'timeAt': f'{datetime.datetime.now().isoformat()}',\n",
    "}\n",
    "\n",
    "response = requests.get(url, headers=headers, params=params)\n",
    "\n",
    "response.json()"
   ]
  },
  {
   "cell_type": "code",
   "execution_count": 121,
   "metadata": {},
   "outputs": [
    {
     "name": "stdout",
     "output_type": "stream",
     "text": [
      "17\n",
      "CPU times: user 4.54 ms, sys: 437 µs, total: 4.98 ms\n",
      "Wall time: 2.71 s\n"
     ]
    }
   ],
   "source": [
    "%%time \n",
    "response = requests.get(url, headers=headers, params=params)\n",
    "print(len(response.json()))"
   ]
  }
 ],
 "metadata": {
  "kernelspec": {
   "display_name": "Python 3",
   "language": "python",
   "name": "python3"
  },
  "language_info": {
   "codemirror_mode": {
    "name": "ipython",
    "version": 3
   },
   "file_extension": ".py",
   "mimetype": "text/x-python",
   "name": "python",
   "nbconvert_exporter": "python",
   "pygments_lexer": "ipython3",
   "version": "3.10.6"
  },
  "orig_nbformat": 4
 },
 "nbformat": 4,
 "nbformat_minor": 2
}
